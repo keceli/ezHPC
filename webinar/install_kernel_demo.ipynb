{
 "cells": [
  {
   "cell_type": "code",
   "execution_count": 1,
   "metadata": {
    "slideshow": {
     "slide_type": "slide"
    }
   },
   "outputs": [
    {
     "name": "stdout",
     "output_type": "stream",
     "text": [
      "Python version: 3.7.4 (default, Aug 13 2019, 20:35:49) \n",
      "Environment: /opt/anaconda3x\n"
     ]
    }
   ],
   "source": [
    "# The magic commands below allow reflecting the changes in an imported module without restarting the kernel.\n",
    "%load_ext autoreload\n",
    "%autoreload 2\n",
    "import sys\n",
    "print(f'Python version: {sys.version.splitlines()[0]}')\n",
    "print(f'Environment: {sys.exec_prefix}')"
   ]
  },
  {
   "cell_type": "markdown",
   "metadata": {},
   "source": [
    "* You can run `!conda list` to see all the packages installed in this environment\n",
    "* You can also see all the modules installed with `help(modules)` or search for a particular module, but this is very slow.\n",
    "* Try importing balsam"
   ]
  },
  {
   "cell_type": "code",
   "execution_count": 2,
   "metadata": {},
   "outputs": [],
   "source": [
    "#import balsam"
   ]
  },
  {
   "cell_type": "markdown",
   "metadata": {},
   "source": [
    "### Since Balsam is not installed in the base environment, we need to install it. \n",
    "### Recap of the required steps:\n",
    "\n",
    "```\n",
    "!conda create -y --name $ENVNAME --clone base\n",
    "!source activate $ENVNAME; pip install --no-cache-dir balsam-flow\n",
    "!source activate $ENVNAME; python -m ipykernel install --user --name $ENVNAME\n",
    "```\n",
    "\n",
    "### First, we need to pick a name for the environment and the kernel."
   ]
  },
  {
   "cell_type": "code",
   "execution_count": 3,
   "metadata": {},
   "outputs": [
    {
     "name": "stdout",
     "output_type": "stream",
     "text": [
      "# conda environments:\n",
      "#\n",
      "ffn                      /home/keceli/.conda/envs/ffn\n",
      "fireworks_theta          /home/keceli/.conda/envs/fireworks_theta\n",
      "jhub_balsam              /home/keceli/.conda/envs/jhub_balsam\n",
      "jhub_chem                /home/keceli/.conda/envs/jhub_chem\n",
      "jhub_chembox             /home/keceli/.conda/envs/jhub_chembox\n",
      "jhub_data                /home/keceli/.conda/envs/jhub_data\n",
      "jhub_demo                /home/keceli/.conda/envs/jhub_demo\n",
      "jhub_demo4               /home/keceli/.conda/envs/jhub_demo4\n",
      "jhub_ffn                 /home/keceli/.conda/envs/jhub_ffn\n",
      "jhub_ffn3                /home/keceli/.conda/envs/jhub_ffn3\n",
      "jhub_fortran             /home/keceli/.conda/envs/jhub_fortran\n",
      "jhub_py3.8               /home/keceli/.conda/envs/jhub_py3.8\n",
      "jhub_python2             /home/keceli/.conda/envs/jhub_python2\n",
      "jhub_python2_test        /home/keceli/.conda/envs/jhub_python2_test\n",
      "jhub_tensorflow          /home/keceli/.conda/envs/jhub_tensorflow\n",
      "jhub_test                /home/keceli/.conda/envs/jhub_test\n",
      "jhub_testenv             /home/keceli/.conda/envs/jhub_testenv\n",
      "valence-env              /home/keceli/.conda/envs/valence-env\n",
      "valence_balsam           /home/keceli/.conda/envs/valence_balsam\n",
      "base                  *  /opt/anaconda3x\n",
      "\n",
      "Available kernels:\n",
      "  jhub_               /gpfs/mira-home/keceli/.local/share/jupyter/kernels/jhub_\n",
      "  jhub_36             /gpfs/mira-home/keceli/.local/share/jupyter/kernels/jhub_36\n",
      "  jhub_balsam         /gpfs/mira-home/keceli/.local/share/jupyter/kernels/jhub_balsam\n",
      "  jhub_chem           /gpfs/mira-home/keceli/.local/share/jupyter/kernels/jhub_chem\n",
      "  jhub_chembox        /gpfs/mira-home/keceli/.local/share/jupyter/kernels/jhub_chembox\n",
      "  jhub_demo           /gpfs/mira-home/keceli/.local/share/jupyter/kernels/jhub_demo\n",
      "  jhub_demo1          /gpfs/mira-home/keceli/.local/share/jupyter/kernels/jhub_demo1\n",
      "  jhub_demo2          /gpfs/mira-home/keceli/.local/share/jupyter/kernels/jhub_demo2\n",
      "  jhub_demo4          /gpfs/mira-home/keceli/.local/share/jupyter/kernels/jhub_demo4\n",
      "  jhub_ffn3           /gpfs/mira-home/keceli/.local/share/jupyter/kernels/jhub_ffn3\n",
      "  jhub_fortran        /gpfs/mira-home/keceli/.local/share/jupyter/kernels/jhub_fortran\n",
      "  jhub_mpi            /gpfs/mira-home/keceli/.local/share/jupyter/kernels/jhub_mpi\n",
      "  jhub_myenv          /gpfs/mira-home/keceli/.local/share/jupyter/kernels/jhub_myenv\n",
      "  jhub_py3.6          /gpfs/mira-home/keceli/.local/share/jupyter/kernels/jhub_py3.6\n",
      "  jhub_tensorflow     /gpfs/mira-home/keceli/.local/share/jupyter/kernels/jhub_tensorflow\n",
      "  jhub_theta_py3.8    /gpfs/mira-home/keceli/.local/share/jupyter/kernels/jhub_theta_py3.8\n",
      "  jhub_theta_test     /gpfs/mira-home/keceli/.local/share/jupyter/kernels/jhub_theta_test\n",
      "  ir                  /opt/anaconda3x/share/jupyter/kernels/ir\n",
      "  python3             /opt/anaconda3x/share/jupyter/kernels/python3\n",
      "  bash                /usr/local/share/jupyter/kernels/bash\n",
      "CPU times: user 20 ms, sys: 10 ms, total: 30 ms\n",
      "Wall time: 1.78 s\n"
     ]
    }
   ],
   "source": [
    "%%time\n",
    "!conda env list\n",
    "!jupyter kernelspec list"
   ]
  },
  {
   "cell_type": "code",
   "execution_count": 4,
   "metadata": {},
   "outputs": [],
   "source": [
    "ENVNAME=\"jhub_demo3\""
   ]
  },
  {
   "cell_type": "markdown",
   "metadata": {},
   "source": [
    "### Now create a new environment with a clone of the base environment"
   ]
  },
  {
   "cell_type": "code",
   "execution_count": 5,
   "metadata": {},
   "outputs": [
    {
     "name": "stdout",
     "output_type": "stream",
     "text": [
      "Source:      /opt/anaconda3x\n",
      "Destination: /home/keceli/.conda/envs/jhub_demo3\n",
      "The following packages cannot be cloned out of the root environment:\n",
      " - defaults/linux-64::conda-4.8.1-py37_0\n",
      " - defaults/linux-64::conda-build-3.18.9-py37_3\n",
      " - defaults/linux-64::conda-env-2.6.0-1\n",
      "Packages: 464\n",
      "Files: 782\n",
      "Preparing transaction: done\n",
      "Verifying transaction: done\n",
      "Executing transaction: done\n",
      "#\n",
      "# To activate this environment, use\n",
      "#\n",
      "#     $ conda activate jhub_demo3\n",
      "#\n",
      "# To deactivate an active environment, use\n",
      "#\n",
      "#     $ conda deactivate\n",
      "\n",
      "CPU times: user 2.16 s, sys: 453 ms, total: 2.61 s\n",
      "Wall time: 2min 45s\n"
     ]
    }
   ],
   "source": [
    "%%time\n",
    "!conda create -y --name $ENVNAME --clone base"
   ]
  },
  {
   "cell_type": "markdown",
   "metadata": {},
   "source": [
    "### Balsam is only available as a PyPI package, so you can install it with `pip`"
   ]
  },
  {
   "cell_type": "code",
   "execution_count": 6,
   "metadata": {},
   "outputs": [
    {
     "name": "stdout",
     "output_type": "stream",
     "text": [
      "Collecting balsam-flow\n",
      "\u001b[?25l  Downloading https://files.pythonhosted.org/packages/98/c5/55411522a8338adc676bb07353227aced5b4352a8e7e5be3277a3c72ea52/balsam_flow-0.3.8-py3-none-any.whl (93kB)\n",
      "\u001b[K     |████████████████████████████████| 102kB 17.7MB/s ta 0:00:01\n",
      "\u001b[?25hCollecting django>=2.1.1\n",
      "\u001b[?25l  Downloading https://files.pythonhosted.org/packages/50/22/4c91847beceadbb54b5a518909ed5000bb1777168c7d6b087e8f79e5e05b/Django-3.1.2-py3-none-any.whl (7.8MB)\n",
      "\u001b[K     |████████████████████████████████| 7.8MB 27.3MB/s eta 0:00:0127.3MB/s eta 0:00:01��███████████████     | 6.6MB 27.3MB/s eta 0:00:01\n",
      "\u001b[?25hRequirement already satisfied: jinja2 in ./.conda/envs/jhub_demo3/lib/python3.7/site-packages (from balsam-flow) (2.10.3)\n",
      "Requirement already satisfied: numpy in ./.conda/envs/jhub_demo3/lib/python3.7/site-packages (from balsam-flow) (1.17.4)\n",
      "Requirement already satisfied: sphinx in ./.conda/envs/jhub_demo3/lib/python3.7/site-packages (from balsam-flow) (2.3.1)\n",
      "Collecting psycopg2-binary\n",
      "\u001b[?25l  Downloading https://files.pythonhosted.org/packages/6d/45/c519a5cfac05e14b1ccb242138915855293199840598e087b935ba1d86bc/psycopg2_binary-2.8.6-cp37-cp37m-manylinux1_x86_64.whl (3.0MB)\n",
      "\u001b[K     |████████████████████████████████| 3.0MB 56.5MB/s eta 0:00:01| 757kB 56.5MB/s eta 0:00:01\n",
      "\u001b[?25hRequirement already satisfied: mpi4py in ./.conda/envs/jhub_demo3/lib/python3.7/site-packages (from balsam-flow) (3.0.3)\n",
      "Collecting sphinx-rtd-theme\n",
      "\u001b[?25l  Downloading https://files.pythonhosted.org/packages/c3/86/1addf25a238bbd8466bb099f23d9a9f13494b22b37b44f6c41a778b8730f/sphinx_rtd_theme-0.5.0-py2.py3-none-any.whl (10.8MB)\n",
      "\u001b[K     |████████████████████████████████| 10.8MB 55.3MB/s eta 0:00:01                       | 2.1MB 55.3MB/s eta 0:00:01��████▋   | 9.6MB 55.3MB/s eta 0:00:01\n",
      "\u001b[?25hCollecting sqlparse>=0.2.2\n",
      "\u001b[?25l  Downloading https://files.pythonhosted.org/packages/14/05/6e8eb62ca685b10e34051a80d7ea94b7137369d8c0be5c3b9d9b6e3f5dae/sqlparse-0.4.1-py3-none-any.whl (42kB)\n",
      "\u001b[K     |████████████████████████████████| 51kB 56.7MB/s eta 0:00:01\n",
      "\u001b[?25hRequirement already satisfied: pytz in ./.conda/envs/jhub_demo3/lib/python3.7/site-packages (from django>=2.1.1->balsam-flow) (2019.3)\n",
      "Collecting asgiref~=3.2.10\n",
      "  Downloading https://files.pythonhosted.org/packages/d5/eb/64725b25f991010307fd18a9e0c1f0e6dff2f03622fc4bcbcdb2244f60d6/asgiref-3.2.10-py3-none-any.whl\n",
      "Requirement already satisfied: MarkupSafe>=0.23 in ./.conda/envs/jhub_demo3/lib/python3.7/site-packages (from jinja2->balsam-flow) (1.1.1)\n",
      "Requirement already satisfied: sphinxcontrib-serializinghtml in ./.conda/envs/jhub_demo3/lib/python3.7/site-packages (from sphinx->balsam-flow) (1.1.3)\n",
      "Requirement already satisfied: sphinxcontrib-htmlhelp in ./.conda/envs/jhub_demo3/lib/python3.7/site-packages (from sphinx->balsam-flow) (1.0.2)\n",
      "Requirement already satisfied: docutils>=0.12 in ./.conda/envs/jhub_demo3/lib/python3.7/site-packages (from sphinx->balsam-flow) (0.15.2)\n",
      "Requirement already satisfied: sphinxcontrib-jsmath in ./.conda/envs/jhub_demo3/lib/python3.7/site-packages (from sphinx->balsam-flow) (1.0.1)\n",
      "Requirement already satisfied: snowballstemmer>=1.1 in ./.conda/envs/jhub_demo3/lib/python3.7/site-packages (from sphinx->balsam-flow) (2.0.0)\n",
      "Requirement already satisfied: sphinxcontrib-applehelp in ./.conda/envs/jhub_demo3/lib/python3.7/site-packages (from sphinx->balsam-flow) (1.0.1)\n",
      "Requirement already satisfied: requests>=2.5.0 in ./.conda/envs/jhub_demo3/lib/python3.7/site-packages (from sphinx->balsam-flow) (2.22.0)\n",
      "Requirement already satisfied: packaging in ./.conda/envs/jhub_demo3/lib/python3.7/site-packages (from sphinx->balsam-flow) (20.0)\n",
      "Requirement already satisfied: sphinxcontrib-qthelp in ./.conda/envs/jhub_demo3/lib/python3.7/site-packages (from sphinx->balsam-flow) (1.0.2)\n",
      "Requirement already satisfied: sphinxcontrib-devhelp in ./.conda/envs/jhub_demo3/lib/python3.7/site-packages (from sphinx->balsam-flow) (1.0.1)\n",
      "Requirement already satisfied: setuptools in ./.conda/envs/jhub_demo3/lib/python3.7/site-packages (from sphinx->balsam-flow) (44.0.0.post20200106)\n",
      "Requirement already satisfied: babel!=2.0,>=1.3 in ./.conda/envs/jhub_demo3/lib/python3.7/site-packages (from sphinx->balsam-flow) (2.8.0)\n",
      "Requirement already satisfied: imagesize in ./.conda/envs/jhub_demo3/lib/python3.7/site-packages (from sphinx->balsam-flow) (1.2.0)\n",
      "Requirement already satisfied: Pygments>=2.0 in ./.conda/envs/jhub_demo3/lib/python3.7/site-packages (from sphinx->balsam-flow) (2.5.2)\n",
      "Requirement already satisfied: alabaster<0.8,>=0.7 in ./.conda/envs/jhub_demo3/lib/python3.7/site-packages (from sphinx->balsam-flow) (0.7.12)\n",
      "Requirement already satisfied: urllib3!=1.25.0,!=1.25.1,<1.26,>=1.21.1 in ./.conda/envs/jhub_demo3/lib/python3.7/site-packages (from requests>=2.5.0->sphinx->balsam-flow) (1.25.7)\n",
      "Requirement already satisfied: certifi>=2017.4.17 in ./.conda/envs/jhub_demo3/lib/python3.7/site-packages (from requests>=2.5.0->sphinx->balsam-flow) (2019.11.28)\n",
      "Requirement already satisfied: chardet<3.1.0,>=3.0.2 in ./.conda/envs/jhub_demo3/lib/python3.7/site-packages (from requests>=2.5.0->sphinx->balsam-flow) (3.0.4)\n",
      "Requirement already satisfied: idna<2.9,>=2.5 in ./.conda/envs/jhub_demo3/lib/python3.7/site-packages (from requests>=2.5.0->sphinx->balsam-flow) (2.8)\n",
      "Requirement already satisfied: six in ./.conda/envs/jhub_demo3/lib/python3.7/site-packages (from packaging->sphinx->balsam-flow) (1.13.0)\n",
      "Requirement already satisfied: pyparsing>=2.0.2 in ./.conda/envs/jhub_demo3/lib/python3.7/site-packages (from packaging->sphinx->balsam-flow) (2.4.6)\n",
      "Installing collected packages: sqlparse, asgiref, django, psycopg2-binary, sphinx-rtd-theme, balsam-flow\n",
      "Successfully installed asgiref-3.2.10 balsam-flow-0.3.8 django-3.1.2 psycopg2-binary-2.8.6 sphinx-rtd-theme-0.5.0 sqlparse-0.4.1\n",
      "CPU times: user 173 ms, sys: 40.1 ms, total: 213 ms\n",
      "Wall time: 14.9 s\n"
     ]
    }
   ],
   "source": [
    "%%time\n",
    "!source activate $ENVNAME; pip install --no-cache-dir balsam-flow"
   ]
  },
  {
   "cell_type": "markdown",
   "metadata": {},
   "source": [
    "### Install Jupyter kernel"
   ]
  },
  {
   "cell_type": "code",
   "execution_count": 7,
   "metadata": {},
   "outputs": [
    {
     "name": "stdout",
     "output_type": "stream",
     "text": [
      "/home/keceli/.conda/envs/jhub_demo3/lib/python3.7/site-packages/ipykernel/__main__.py:2: VisibleDeprecationWarning: zmq.eventloop.minitornado is deprecated in pyzmq 14.0 and will be removed.\n",
      "    Install tornado itself to use zmq with the tornado IOLoop.\n",
      "    \n",
      "  from ipykernel import kernelapp as app\n",
      "Installed kernelspec jhub_demo3 in /gpfs/mira-home/keceli/.local/share/jupyter/kernels/jhub_demo3\n",
      "CPU times: user 42 ms, sys: 14.5 ms, total: 56.6 ms\n",
      "Wall time: 4.14 s\n"
     ]
    }
   ],
   "source": [
    "%%time\n",
    "!source activate $ENVNAME;python -m ipykernel install --user --name $ENVNAME"
   ]
  },
  {
   "cell_type": "markdown",
   "metadata": {},
   "source": [
    "\n",
    "### Final steps\n",
    "* Refresh the browser or open a new notebook\n",
    "* Select the new `Kernel` from the top dropdownlist"
   ]
  },
  {
   "cell_type": "markdown",
   "metadata": {},
   "source": [
    "### After selecting the new kernel, uncomment the following cell and execute"
   ]
  },
  {
   "cell_type": "code",
   "execution_count": 1,
   "metadata": {
    "scrolled": true
   },
   "outputs": [
    {
     "name": "stdout",
     "output_type": "stream",
     "text": [
      "0.3.8\n",
      "/home/keceli/.conda/envs/jhub_demo3/lib/python3.7/site-packages/balsam/__init__.py\n"
     ]
    }
   ],
   "source": [
    "# import balsam\n",
    "# print(balsam.__version__)\n",
    "# print(balsam.__file__)"
   ]
  },
  {
   "cell_type": "code",
   "execution_count": 9,
   "metadata": {},
   "outputs": [
    {
     "data": {
      "text/plain": [
       "'jhub_demo3'"
      ]
     },
     "execution_count": 9,
     "metadata": {},
     "output_type": "execute_result"
    }
   ],
   "source": [
    "ENVNAME"
   ]
  },
  {
   "cell_type": "code",
   "execution_count": null,
   "metadata": {},
   "outputs": [],
   "source": []
  }
 ],
 "metadata": {
  "kernelspec": {
   "display_name": "jhub_demo3",
   "language": "python",
   "name": "jhub_demo3"
  },
  "language_info": {
   "codemirror_mode": {
    "name": "ipython",
    "version": 3
   },
   "file_extension": ".py",
   "mimetype": "text/x-python",
   "name": "python",
   "nbconvert_exporter": "python",
   "pygments_lexer": "ipython3",
   "version": "3.7.4"
  }
 },
 "nbformat": 4,
 "nbformat_minor": 2
}
