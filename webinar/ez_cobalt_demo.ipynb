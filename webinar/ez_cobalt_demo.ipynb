{
 "cells": [
  {
   "cell_type": "code",
   "execution_count": 1,
   "metadata": {},
   "outputs": [
    {
     "name": "stdout",
     "output_type": "stream",
     "text": [
      "Python version: 3.7.4 (default, Aug 13 2019, 20:35:49) \n",
      "Environment: /opt/anaconda3x\n"
     ]
    }
   ],
   "source": [
    "# The magic commands below allow reflecting the changes in an imported module without restarting the kernel.\n",
    "%load_ext autoreload\n",
    "%autoreload 2\n",
    "import sys\n",
    "print(f'Python version: {sys.version.splitlines()[0]}')\n",
    "print(f'Environment: {sys.exec_prefix}')"
   ]
  },
  {
   "cell_type": "markdown",
   "metadata": {},
   "source": [
    "Shell commands are prefixed with `!`"
   ]
  },
  {
   "cell_type": "code",
   "execution_count": 2,
   "metadata": {},
   "outputs": [
    {
     "name": "stdout",
     "output_type": "stream",
     "text": [
      "/gpfs/mira-home/keceli\r\n"
     ]
    }
   ],
   "source": [
    "!pwd"
   ]
  },
  {
   "cell_type": "code",
   "execution_count": 3,
   "metadata": {},
   "outputs": [
    {
     "name": "stdout",
     "output_type": "stream",
     "text": [
      "hello jupyter\r\n"
     ]
    }
   ],
   "source": [
    "!echo hello jupyter"
   ]
  },
  {
   "cell_type": "code",
   "execution_count": 4,
   "metadata": {},
   "outputs": [],
   "source": [
    "hello = !echo hello jupyter"
   ]
  },
  {
   "cell_type": "code",
   "execution_count": 5,
   "metadata": {},
   "outputs": [
    {
     "data": {
      "text/plain": [
       "IPython.utils.text.SList"
      ]
     },
     "execution_count": 5,
     "metadata": {},
     "output_type": "execute_result"
    }
   ],
   "source": [
    "type(hello)"
   ]
  },
  {
   "cell_type": "markdown",
   "metadata": {},
   "source": [
    "More info at IPython [docs](https://ipython.readthedocs.io/en/stable/api/generated/IPython.utils.text.html#IPython.utils.text.SList)\n",
    "\n",
    "Alternatively, try inline help or `?`"
   ]
  },
  {
   "cell_type": "code",
   "execution_count": 6,
   "metadata": {
    "scrolled": true
   },
   "outputs": [],
   "source": [
    "from IPython.utils.text import SList"
   ]
  },
  {
   "cell_type": "code",
   "execution_count": 7,
   "metadata": {
    "scrolled": true
   },
   "outputs": [
    {
     "name": "stdout",
     "output_type": "stream",
     "text": [
      "Help on class SList in module IPython.utils.text:\n",
      "\n",
      "class SList(builtins.list)\n",
      " |  SList(iterable=(), /)\n",
      " |  \n",
      " |  List derivative with a special access attributes.\n",
      " |  \n",
      " |  These are normal lists, but with the special attributes:\n",
      " |  \n",
      " |  * .l (or .list) : value as list (the list itself).\n",
      " |  * .n (or .nlstr): value as a string, joined on newlines.\n",
      " |  * .s (or .spstr): value as a string, joined on spaces.\n",
      " |  * .p (or .paths): list of path objects (requires path.py package)\n",
      " |  \n",
      " |  Any values which require transformations are computed only once and\n",
      " |  cached.\n",
      " |  \n",
      " |  Method resolution order:\n",
      " |      SList\n",
      " |      builtins.list\n",
      " |      builtins.object\n",
      " |  \n",
      " |  Methods defined here:\n",
      " |  \n",
      " |  fields(self, *fields)\n",
      " |      Collect whitespace-separated fields from string list\n",
      " |      \n",
      " |      Allows quick awk-like usage of string lists.\n",
      " |      \n",
      " |      Example data (in var a, created by 'a = !ls -l')::\n",
      " |      \n",
      " |          -rwxrwxrwx  1 ville None      18 Dec 14  2006 ChangeLog\n",
      " |          drwxrwxrwx+ 6 ville None       0 Oct 24 18:05 IPython\n",
      " |      \n",
      " |      * ``a.fields(0)`` is ``['-rwxrwxrwx', 'drwxrwxrwx+']``\n",
      " |      * ``a.fields(1,0)`` is ``['1 -rwxrwxrwx', '6 drwxrwxrwx+']``\n",
      " |        (note the joining by space).\n",
      " |      * ``a.fields(-1)`` is ``['ChangeLog', 'IPython']``\n",
      " |      \n",
      " |      IndexErrors are ignored.\n",
      " |      \n",
      " |      Without args, fields() just split()'s the strings.\n",
      " |  \n",
      " |  get_list(self)\n",
      " |  \n",
      " |  get_nlstr(self)\n",
      " |  \n",
      " |  get_paths(self)\n",
      " |  \n",
      " |  get_spstr(self)\n",
      " |  \n",
      " |  grep(self, pattern, prune=False, field=None)\n",
      " |      Return all strings matching 'pattern' (a regex or callable)\n",
      " |      \n",
      " |      This is case-insensitive. If prune is true, return all items\n",
      " |      NOT matching the pattern.\n",
      " |      \n",
      " |      If field is specified, the match must occur in the specified\n",
      " |      whitespace-separated field.\n",
      " |      \n",
      " |      Examples::\n",
      " |      \n",
      " |          a.grep( lambda x: x.startswith('C') )\n",
      " |          a.grep('Cha.*log', prune=1)\n",
      " |          a.grep('chm', field=-1)\n",
      " |  \n",
      " |  sort(self, field=None, nums=False)\n",
      " |      sort by specified fields (see fields())\n",
      " |      \n",
      " |      Example::\n",
      " |      \n",
      " |          a.sort(1, nums = True)\n",
      " |      \n",
      " |      Sorts a by second field, in numerical order (so that 21 > 3)\n",
      " |  \n",
      " |  ----------------------------------------------------------------------\n",
      " |  Data descriptors defined here:\n",
      " |  \n",
      " |  __dict__\n",
      " |      dictionary for instance variables (if defined)\n",
      " |  \n",
      " |  __weakref__\n",
      " |      list of weak references to the object (if defined)\n",
      " |  \n",
      " |  l\n",
      " |  \n",
      " |  list\n",
      " |  \n",
      " |  n\n",
      " |  \n",
      " |  nlstr\n",
      " |  \n",
      " |  p\n",
      " |  \n",
      " |  paths\n",
      " |  \n",
      " |  s\n",
      " |  \n",
      " |  spstr\n",
      " |  \n",
      " |  ----------------------------------------------------------------------\n",
      " |  Methods inherited from builtins.list:\n",
      " |  \n",
      " |  __add__(self, value, /)\n",
      " |      Return self+value.\n",
      " |  \n",
      " |  __contains__(self, key, /)\n",
      " |      Return key in self.\n",
      " |  \n",
      " |  __delitem__(self, key, /)\n",
      " |      Delete self[key].\n",
      " |  \n",
      " |  __eq__(self, value, /)\n",
      " |      Return self==value.\n",
      " |  \n",
      " |  __ge__(self, value, /)\n",
      " |      Return self>=value.\n",
      " |  \n",
      " |  __getattribute__(self, name, /)\n",
      " |      Return getattr(self, name).\n",
      " |  \n",
      " |  __getitem__(...)\n",
      " |      x.__getitem__(y) <==> x[y]\n",
      " |  \n",
      " |  __gt__(self, value, /)\n",
      " |      Return self>value.\n",
      " |  \n",
      " |  __iadd__(self, value, /)\n",
      " |      Implement self+=value.\n",
      " |  \n",
      " |  __imul__(self, value, /)\n",
      " |      Implement self*=value.\n",
      " |  \n",
      " |  __init__(self, /, *args, **kwargs)\n",
      " |      Initialize self.  See help(type(self)) for accurate signature.\n",
      " |  \n",
      " |  __iter__(self, /)\n",
      " |      Implement iter(self).\n",
      " |  \n",
      " |  __le__(self, value, /)\n",
      " |      Return self<=value.\n",
      " |  \n",
      " |  __len__(self, /)\n",
      " |      Return len(self).\n",
      " |  \n",
      " |  __lt__(self, value, /)\n",
      " |      Return self<value.\n",
      " |  \n",
      " |  __mul__(self, value, /)\n",
      " |      Return self*value.\n",
      " |  \n",
      " |  __ne__(self, value, /)\n",
      " |      Return self!=value.\n",
      " |  \n",
      " |  __repr__(self, /)\n",
      " |      Return repr(self).\n",
      " |  \n",
      " |  __reversed__(self, /)\n",
      " |      Return a reverse iterator over the list.\n",
      " |  \n",
      " |  __rmul__(self, value, /)\n",
      " |      Return value*self.\n",
      " |  \n",
      " |  __setitem__(self, key, value, /)\n",
      " |      Set self[key] to value.\n",
      " |  \n",
      " |  __sizeof__(self, /)\n",
      " |      Return the size of the list in memory, in bytes.\n",
      " |  \n",
      " |  append(self, object, /)\n",
      " |      Append object to the end of the list.\n",
      " |  \n",
      " |  clear(self, /)\n",
      " |      Remove all items from list.\n",
      " |  \n",
      " |  copy(self, /)\n",
      " |      Return a shallow copy of the list.\n",
      " |  \n",
      " |  count(self, value, /)\n",
      " |      Return number of occurrences of value.\n",
      " |  \n",
      " |  extend(self, iterable, /)\n",
      " |      Extend list by appending elements from the iterable.\n",
      " |  \n",
      " |  index(self, value, start=0, stop=9223372036854775807, /)\n",
      " |      Return first index of value.\n",
      " |      \n",
      " |      Raises ValueError if the value is not present.\n",
      " |  \n",
      " |  insert(self, index, object, /)\n",
      " |      Insert object before index.\n",
      " |  \n",
      " |  pop(self, index=-1, /)\n",
      " |      Remove and return item at index (default last).\n",
      " |      \n",
      " |      Raises IndexError if list is empty or index is out of range.\n",
      " |  \n",
      " |  remove(self, value, /)\n",
      " |      Remove first occurrence of value.\n",
      " |      \n",
      " |      Raises ValueError if the value is not present.\n",
      " |  \n",
      " |  reverse(self, /)\n",
      " |      Reverse *IN PLACE*.\n",
      " |  \n",
      " |  ----------------------------------------------------------------------\n",
      " |  Static methods inherited from builtins.list:\n",
      " |  \n",
      " |  __new__(*args, **kwargs) from builtins.type\n",
      " |      Create and return a new object.  See help(type) for accurate signature.\n",
      " |  \n",
      " |  ----------------------------------------------------------------------\n",
      " |  Data and other attributes inherited from builtins.list:\n",
      " |  \n",
      " |  __hash__ = None\n",
      "\n"
     ]
    }
   ],
   "source": [
    "help(SList)"
   ]
  },
  {
   "cell_type": "code",
   "execution_count": 8,
   "metadata": {},
   "outputs": [],
   "source": [
    "SList??"
   ]
  },
  {
   "cell_type": "code",
   "execution_count": 9,
   "metadata": {},
   "outputs": [
    {
     "name": "stdout",
     "output_type": "stream",
     "text": [
      "/bin/sh: catt: command not found\r\n"
     ]
    }
   ],
   "source": [
    "!catt"
   ]
  },
  {
   "cell_type": "code",
   "execution_count": 10,
   "metadata": {},
   "outputs": [],
   "source": [
    "readme = !cat /home/keceli/README"
   ]
  },
  {
   "cell_type": "code",
   "execution_count": 11,
   "metadata": {},
   "outputs": [
    {
     "name": "stdout",
     "output_type": "stream",
     "text": [
      "['ALCF Mira uses SoftEnv for managing your environment. ', 'A default .soft has been created for you. ', '', 'For more information on SoftEnv, please see:', '', '    man softenv-intro', '', 'Though the default ALCF environment is enabled for you already in your .soft,', 'via @default, you will need to choose a set of MPI wrappers as no default is', 'available.  For more information on the available choices, please see:', '', '    https://www.alcf.anl.gov/user-guides/overview-how-compile-and-link', '', 'Please edit your .soft file to choose an appropriate set of MPI wrappers for', 'your purposes.', '', 'Theta is using modules', '', 'myquota shows disk usage and limits for home', 'myprojectquotas show allocations for projects']\n"
     ]
    }
   ],
   "source": [
    "print(readme)"
   ]
  },
  {
   "cell_type": "code",
   "execution_count": 12,
   "metadata": {},
   "outputs": [],
   "source": [
    "files = !ls ./ezHPC/"
   ]
  },
  {
   "cell_type": "code",
   "execution_count": 13,
   "metadata": {},
   "outputs": [
    {
     "data": {
      "text/plain": [
       "['ez_balsam_demo.ipynb',\n",
       " 'ez_balsam.py',\n",
       " 'ez_cobalt_demo.ipynb',\n",
       " 'ez_cobalt.py',\n",
       " 'install_kernel_demo.ipynb',\n",
       " 'LICENSE',\n",
       " 'README.md']"
      ]
     },
     "execution_count": 13,
     "metadata": {},
     "output_type": "execute_result"
    }
   ],
   "source": [
    "files"
   ]
  },
  {
   "cell_type": "code",
   "execution_count": 14,
   "metadata": {},
   "outputs": [
    {
     "data": {
      "text/plain": [
       "['total 320',\n",
       " '-rw-r--r-- 1 keceli users 38714 Oct 28 07:17 ez_balsam_demo.ipynb',\n",
       " '-rw-r--r-- 1 keceli users 22761 Oct 28 01:13 ez_balsam.py',\n",
       " '-rw-r--r-- 1 keceli users 45452 Oct 28 07:18 ez_cobalt_demo.ipynb',\n",
       " '-rw-r--r-- 1 keceli users 14940 Oct 28 07:12 ez_cobalt.py',\n",
       " '-rw-r--r-- 1 keceli users 17387 Oct 28 07:20 install_kernel_demo.ipynb',\n",
       " '-rw-r--r-- 1 keceli users  1063 Oct 26 09:48 LICENSE',\n",
       " '-rw-r--r-- 1 keceli users    84 Oct 26 09:48 README.md']"
      ]
     },
     "execution_count": 14,
     "metadata": {},
     "output_type": "execute_result"
    }
   ],
   "source": [
    "files = !ls -l ./ezHPC/\n",
    "files"
   ]
  },
  {
   "cell_type": "code",
   "execution_count": 15,
   "metadata": {},
   "outputs": [
    {
     "data": {
      "text/plain": [
       "['total',\n",
       " '-rw-r--r--',\n",
       " '-rw-r--r--',\n",
       " '-rw-r--r--',\n",
       " '-rw-r--r--',\n",
       " '-rw-r--r--',\n",
       " '-rw-r--r--',\n",
       " '-rw-r--r--']"
      ]
     },
     "execution_count": 15,
     "metadata": {},
     "output_type": "execute_result"
    }
   ],
   "source": [
    "files.fields(0)"
   ]
  },
  {
   "cell_type": "code",
   "execution_count": 16,
   "metadata": {},
   "outputs": [
    {
     "data": {
      "text/plain": [
       "['320',\n",
       " 'ez_balsam_demo.ipynb',\n",
       " 'ez_balsam.py',\n",
       " 'ez_cobalt_demo.ipynb',\n",
       " 'ez_cobalt.py',\n",
       " 'install_kernel_demo.ipynb',\n",
       " 'LICENSE',\n",
       " 'README.md']"
      ]
     },
     "execution_count": 16,
     "metadata": {},
     "output_type": "execute_result"
    }
   ],
   "source": [
    "files.fields(-1)"
   ]
  },
  {
   "cell_type": "code",
   "execution_count": 17,
   "metadata": {},
   "outputs": [
    {
     "name": "stdout",
     "output_type": "stream",
     "text": [
      "demo\n",
      "jupyter02.mcp.alcf.anl.gov\n",
      "keceli\n",
      "/home/keceli\n"
     ]
    }
   ],
   "source": [
    "pyvar = 'demo'\n",
    "!echo $pyvar\n",
    "!echo $HOSTNAME\n",
    "!echo $(whoami)\n",
    "!echo ~"
   ]
  },
  {
   "cell_type": "markdown",
   "metadata": {},
   "source": [
    "* So far we have used basic linux commands. \n",
    "* Now, we will demonstrate job submission on JupyterHub.\n",
    "* Job submission on Theta is handled with [Cobalt](https://trac.mcs.anl.gov/projects/cobalt/).\n",
    "* We need to write an executable script to submit a job.\n",
    "* Check ALCF Theta [documentation](https://alcf.anl.gov/support-center/theta/submit-job-theta) for more details.\n",
    "* \"Best Practices for Queueing and Running Jobs on Theta\" [webinar](https://alcf.anl.gov/events/best-practices-queueing-and-running-jobs-theta)"
   ]
  },
  {
   "cell_type": "code",
   "execution_count": 18,
   "metadata": {},
   "outputs": [
    {
     "name": "stdout",
     "output_type": "stream",
     "text": [
      "#!/bin/bash -x \r\n",
      "aprun -n 1 -N 1 echo hello jupyter\r\n"
     ]
    }
   ],
   "source": [
    "jobscript=\"\"\"#!/bin/bash -x \n",
    "aprun -n 1 -N 1 echo hello jupyter\"\"\"\n",
    "!echo -e \"$jobscript\" > testjob.sh\n",
    "!chmod u+x testjob.sh\n",
    "!cat testjob.sh"
   ]
  },
  {
   "cell_type": "code",
   "execution_count": 19,
   "metadata": {},
   "outputs": [
    {
     "name": "stdout",
     "output_type": "stream",
     "text": [
      "#!/bin/bash -x \r\n",
      " aprun -n 1 -N 1 echo hello jupyter\r\n"
     ]
    }
   ],
   "source": [
    "!echo -e \"#!/bin/bash -x \\n aprun -n 1 -N 1 echo hello jupyter\" > testjob.sh\n",
    "!chmod u+x testjob.sh\n",
    "!cat testjob.sh"
   ]
  },
  {
   "cell_type": "code",
   "execution_count": 20,
   "metadata": {},
   "outputs": [
    {
     "name": "stdout",
     "output_type": "stream",
     "text": [
      "Job routed to queue \"debug-flat-quad\".\n",
      "Memory mode set to flat quad for queue debug-flat-quad\n",
      "No handlers could be found for logger \"Proxy\"\n",
      "<Fault 1001: \"The limit of 1 jobs per user in the 'debug-flat-quad' queue has been reached\\n\">\n"
     ]
    }
   ],
   "source": [
    "#!man qsub\n",
    "!qsub -n 1 -t 10 -A datascience -q debug-flat-quad testjob.sh "
   ]
  },
  {
   "cell_type": "code",
   "execution_count": 21,
   "metadata": {},
   "outputs": [
    {
     "name": "stdout",
     "output_type": "stream",
     "text": [
      "JobID   User    WallTime  Nodes  State    Location  \r\n",
      "====================================================\r\n",
      "475782  keceli  00:10:00  1      running  23        \r\n"
     ]
    }
   ],
   "source": [
    "# Earlier job id: 475482\n",
    "!qstat -u `whoami`"
   ]
  },
  {
   "cell_type": "code",
   "execution_count": 22,
   "metadata": {},
   "outputs": [
    {
     "name": "stdout",
     "output_type": "stream",
     "text": [
      "475482.cobaltlog  475482.error\t475482.output\r\n"
     ]
    }
   ],
   "source": [
    "jobid = 475482\n",
    "!ls \"$jobid\".*"
   ]
  },
  {
   "cell_type": "code",
   "execution_count": 23,
   "metadata": {},
   "outputs": [
    {
     "name": "stdout",
     "output_type": "stream",
     "text": [
      "==> 475482.cobaltlog <==\r\n",
      "Jobid: 475482\r\n",
      "qsub -n 1 -t 10 -A datascience -q debug-flat-quad testjob.sh\r\n",
      "Tue Oct 27 04:19:48 2020 +0000 (UTC) submitted with cwd set to: /gpfs/mira-home/keceli\r\n",
      "jobid 475482 submitted from terminal /dev/pts/4\r\n",
      "2020-10-27 04:20:35,966 INFO: Starting Resource_Prologue\r\n",
      "2020-10-27 04:20:35,968 DEBUG: no enabling attribute found\r\n",
      "2020-10-27 04:20:35,968 INFO: Resource_Prologue finished with exit code 0\r\n",
      "Tue Oct 27 04:20:58 2020 +0000 (UTC) \r\n",
      "Tue Oct 27 04:20:58 2020 +0000 (UTC) Command: '/gpfs/mira-home/keceli/testjob.sh'\r\n",
      "Tue Oct 27 04:20:58 2020 +0000 (UTC) \r\n",
      "\r\n",
      "==> 475482.error <==\r\n",
      "+ aprun -n 1 -N 1 echo hello jupyter\r\n",
      "\r\n",
      "==> 475482.output <==\r\n",
      "hello jupyter\r\n",
      "Application 21737865 resources: utime ~0s, stime ~1s, Rss ~7164, inblocks ~268, outblocks ~0\r\n"
     ]
    }
   ],
   "source": [
    "!head \"$jobid\".*"
   ]
  },
  {
   "cell_type": "code",
   "execution_count": 24,
   "metadata": {},
   "outputs": [],
   "source": [
    "# %load https://raw.githubusercontent.com/keceli/ezHPC/main/ez_cobalt.py\n",
    "#%%writefile ezHPC/ez_cobalt.py #Uncomment to write the file\n",
    "#%load https://raw.githubusercontent.com/keceli/ezHPC/main/ez_theta.py #Uncomment to load the file\n",
    "def qstat(user='', jobid='', \n",
    "          header='JobID:User:Score:WallTime:RunTime:Nodes:Queue:Est_Start_Time',\n",
    "          extra='',\n",
    "          verbose=False):\n",
    "    \"\"\"\n",
    "    Query about jobs submitted to queue manager with `qstat`.\n",
    "    Parameters:\n",
    "    ------------\n",
    "    user: str, username\n",
    "    jobid: str, cobalt job id, if more than one, seperate with a space\n",
    "    header: str, customize info using headers \n",
    "    other header options: QueuedTime:TimeRemaining:State:Location:Mode:Procs:Preemptable:Index\n",
    "    \"\"\"\n",
    "    import os\n",
    "    import getpass\n",
    "    cmd = ''\n",
    "    if jobid:\n",
    "        cmd = f'--header={header} {jobid}'\n",
    "    else:\n",
    "        if user == '':\n",
    "            user = getpass.getuser() #user = '$(whoami)'\n",
    "            cmd = f'-u {user} --header={header}'\n",
    "        elif user.lower() == 'all':\n",
    "            cmd = f'--header={header}'\n",
    "        else:\n",
    "            cmd = f'-u {user} --header={header}'\n",
    "    if verbose:\n",
    "        cmd = f'qstat -f -l {cmd}'\n",
    "    else:\n",
    "        cmd = f'qstat {cmd}'\n",
    "    if extra:\n",
    "        cmd += ' ' + extra\n",
    "    print(f'Running...\\n {cmd}\\n')\n",
    "    stream = os.popen(cmd).read()\n",
    "    if stream:\n",
    "        print(stream)\n",
    "    else:\n",
    "        print('No active jobs')\n",
    "    return\n",
    "\n",
    "def i_qstat():\n",
    "    \"\"\"\n",
    "    Query about jobs submitted to queue manager with `qstat`.\n",
    "    \"\"\"\n",
    "    from ipywidgets import interact_manual, widgets\n",
    "    import getpass\n",
    "    im = interact_manual(qstat, user=getpass.getuser())\n",
    "    app_button = im.widget.children[5]\n",
    "    app_button.description = 'qstat'\n",
    "    return\n",
    "\n",
    "def qdel(jobid=''):\n",
    "    \"\"\"\n",
    "    Delete job(s) with the given id(s).\n",
    "    \"\"\"\n",
    "    cmd = f'qdel {jobid}'\n",
    "    process = Popen(cmd.split(), stdout=PIPE, stderr=PIPE)\n",
    "    out, err = process.communicate()    \n",
    "    print(f'stdout: {out}')\n",
    "    print(f'stderr: {err}')\n",
    "    return \n",
    "\n",
    "def i_qdel():\n",
    "    \"\"\"\n",
    "    Delete job(s) with the given id(s).\n",
    "    \"\"\"\n",
    "    from ipywidgets import interact_manual, widgets\n",
    "    im = interact_manual(qdel)\n",
    "    app_button = im.widget.children[1]\n",
    "    app_button.description = 'qdel'\n",
    "    return\n",
    "\n",
    "def i_show_logs(job_prefix):\n",
    "    \"\"\"\n",
    "    \"\"\"\n",
    "    from ipywidgets import widgets, Layout\n",
    "    from IPython.display import display, clear_output\n",
    "    from os.path import isfile\n",
    "    outfile = f'{job_prefix}.output'\n",
    "    errfile = f'{job_prefix}.error' \n",
    "    logfile = f'{job_prefix}.cobaltlog'\n",
    "    if (isfile(outfile)):\n",
    "        with open(outfile, 'r') as f:\n",
    "            out = f.read()\n",
    "        with open(errfile, 'r') as f:\n",
    "            err = f.read()\n",
    "        with open(logfile, 'r') as f:\n",
    "            log = f.read()\n",
    "        children = [widgets.Textarea(value=val, layout=Layout(flex= '1 1 auto', width='100%',height='400px')) \n",
    "                    for name,val in [(outfile,out), (errfile,err), (logfile,log)]]\n",
    "        tab = widgets.Tab(children=children,layout=Layout(flex= '1 1 auto', width='100%',height='auto'))\n",
    "        #ow = widgets.Textarea(value=out,description=outfile)\n",
    "        #ew = widgets.Textarea(value=err,description=errfile)\n",
    "        #lw = widgets.Textarea(value=log,description=logfile)\n",
    "        tab.set_title(0, outfile)\n",
    "        tab.set_title(1, errfile)\n",
    "        tab.set_title(2, logfile)\n",
    "        display(tab)\n",
    "    return\n",
    "\n",
    "def parse_cobaltlog(prefix='', verbose=True):\n",
    "    \"\"\"\n",
    "    Return a dictionary with the content parsed from <prefix>.cobaltlog file\n",
    "    \"\"\"\n",
    "    from os.path import isfile\n",
    "    from dateutil.parser import parse\n",
    "    from pprint import pprint\n",
    "    logfile = f'{prefix}.cobaltlog'\n",
    "    d = {}\n",
    "    if isfile(logfile):\n",
    "        with open(logfile, 'r') as f:    \n",
    "            lines = f.readlines()\n",
    "        for line in lines:\n",
    "            if line.startswith('Jobid'):\n",
    "                jobid = line.split()[-1].strip()\n",
    "                d['jobid'] = jobid\n",
    "            elif line.startswith('qsub'):\n",
    "                cmd = line.strip()\n",
    "                d['qsub_cmd'] = cmd\n",
    "            elif 'submitted with cwd set to' in line:\n",
    "                d['work_dir'] = line.split()[-1].strip()\n",
    "                d['submit_time'] = parse(line.split('submitted')[0].strip())\n",
    "            elif 'INFO: Starting Resource_Prologue' in line:\n",
    "                d['init_time'] = parse(line.split('INFO:')[0].strip())\n",
    "                d['queue_time'] = d['init_time'] - d['submit_time'].replace(tzinfo=None)\n",
    "                d['queue_seconds'] = d['queue_time'].seconds\n",
    "            elif 'Command:' in line:\n",
    "                d['script'] = line.split(':')[-1].strip()\n",
    "                d['start_time'] = parse(line.split('Command:')[0].strip())\n",
    "                d['boot_time'] = d['start_time'].replace(tzinfo=None) - d['init_time']\n",
    "                d['boot_seconds'] = d['boot_time'].seconds\n",
    "            elif 'COBALT_PARTCORES' in line:\n",
    "                d['partcores'] = line.split('=')[-1].strip()\n",
    "            elif 'SHELL=' in line:\n",
    "                d['shell'] = line.split('=')[-1].strip()\n",
    "            elif 'COBALT_PROJECT' in line:\n",
    "                d['project'] = line.split('=')[-1].strip()\n",
    "            elif 'COBALT_PARTNAME' in line:\n",
    "                d['partname'] = line.split('=')[-1].strip()\n",
    "            elif 'LOGNAME=' in line:\n",
    "                d['logname'] = line.split('=')[-1].strip()\n",
    "            elif 'USER=' in line:\n",
    "                d['user'] = line.split('=')[-1].strip()\n",
    "            elif 'COBALT_STARTTIME' in line:\n",
    "                d['cobalt_starttime'] = line.split('=')[-1].strip()\n",
    "            elif 'COBALT_ENDTIME' in line:\n",
    "                d['cobalt_endtime'] = line.split('=')[-1].strip()\n",
    "            elif 'COBALT_PARTSIZE' in line:\n",
    "                d['partsize'] = line.split('=')[-1].strip()\n",
    "            elif 'HOME=' in line:\n",
    "                d['home'] = line.split('=')[-1].strip()\n",
    "            elif 'COBALT_JOBSIZE' in line:\n",
    "                d['jobsize'] = line.split('=')[-1].strip()\n",
    "            elif 'COBALT_QUEUE' in line:\n",
    "                d['queue'] = line.split('=')[-1].strip()\n",
    "            elif 'Info: stdin received from' in line:\n",
    "                d['stdin'] = line.split()[-1].strip()\n",
    "            elif 'Info: stdout sent to' in line:\n",
    "                d['stdout'] = line.split()[-1].strip()\n",
    "            elif 'Info: stderr sent to' in line:\n",
    "                d['stderr'] = line.split()[-1].strip()\n",
    "            elif 'with an exit code' in line:\n",
    "                d['exit_code'] = line.split(';')[-1].split()[-1]\n",
    "                d['end_time'] = parse(line.split('Info:')[0].strip())\n",
    "                d['job_time'] = d['end_time'] - d['start_time']\n",
    "                d['wall_seconds'] = d['job_time'].seconds             \n",
    "    else:\n",
    "        print(f'{logfile} is not found.')\n",
    "    if verbose:\n",
    "        pprint(d)\n",
    "    return d\n",
    "\n",
    "def print_cobalt_times(prefix=''):\n",
    "    \"\"\"\n",
    "    Print timings from Cobalt logfile\n",
    "    \"\"\"\n",
    "    d = parse_cobaltlog(prefix=prefix, verbose=False)\n",
    "    for key, val in d.items():\n",
    "        if '_time' in key or 'seconds' in key:\n",
    "            print(f'{key}: {val}')\n",
    "\n",
    "def get_job_script(nodes=1, ranks_per_node=1, affinity='-d 1 -j 1 --cc depth', command='',verbose=True):\n",
    "    \"\"\"\n",
    "    Returns Cobalt job script with the given parameters\n",
    "    TODO: add rules for affinity\n",
    "    \"\"\"\n",
    "    script = '#!/bin/bash -x \\n'\n",
    "    ranks  = ranks_per_node * nodes\n",
    "    script += f'aprun -n {ranks} -N {ranks_per_node} {affinity} {command}'\n",
    "    if verbose: print(script)\n",
    "    return script\n",
    "\n",
    "def i_get_job_script_manual():\n",
    "    from ipywidgets import widgets, Layout, interact_manual\n",
    "    from IPython.display import display, clear_output\n",
    "    from os.path import isfile\n",
    "    inodes = widgets.BoundedIntText(value=1, min=1, max=4394, step=1, description='nodes', disabled=False)\n",
    "    iranks_per_node = widgets.BoundedIntText(value=1, min=1, max=64, step=1, description='rank_per_nodes', disabled=False)\n",
    "    im = interact_manual(get_job_script, nodes=inodes, ranks_per_node=irank_per_nodes)\n",
    "    get_job_script_button = im.widget.children[4]\n",
    "    get_job_script_button.description = 'get_job_script'\n",
    "    return\n",
    "\n",
    "def i_get_job_script():\n",
    "    from ipywidgets import widgets, Layout, interact_manual\n",
    "    from IPython.display import display, clear_output\n",
    "    from os.path import isfile\n",
    "    inodes = widgets.BoundedIntText(value=1, min=1, max=4394, step=1, description='nodes', disabled=False)\n",
    "    iranks_per_node = widgets.BoundedIntText(value=1, min=1, max=64, step=1, description='ranks/node', disabled=False)\n",
    "    iaffinity = widgets.Text(value='-d 1 -j 1 --cc depth',description='affinity')\n",
    "    icommand = widgets.Text(value='',description='executable and args')\n",
    "    out = widgets.interactive_output(get_job_script, {'nodes': inodes, \n",
    "                                                      'ranks_per_node': iranks_per_node,\n",
    "                                                      'affinity': iaffinity,\n",
    "                                                      'command': icommand})\n",
    "    box = widgets.VBox([widgets.VBox([inodes, iranks_per_node, iaffinity, icommand]), out])\n",
    "    display(box)\n",
    "    return\n",
    "\n",
    "def validate_theta_job(queue='', nodes=1, wall_minutes=10):\n",
    "    \"\"\"\n",
    "    Return True if given <queue> <nodes> <wall_minutes> are valid for a job on Theta,\n",
    "    Return False and print the reason otherwise.\n",
    "    See https://alcf.anl.gov/support-center/theta/job-scheduling-policy-theta\n",
    "    Parameters\n",
    "    ----------\n",
    "    queue: str, queue name, can be: 'default', 'debug-cache-quad', 'debug-flat-quad', 'backfill'\n",
    "    nodes: int, Number of nodes, can be an integer from 1 to 4096 depending on the queue.\n",
    "    wall_minutes: int, max wall time in minutes, depends on the queue and the number of nodes, max 1440 minutes\n",
    "    \"\"\"\n",
    "    isvalid = True\n",
    "    if queue.startswith('debug'):\n",
    "        if wall_minutes > 60:\n",
    "            print(f'Max wall time for {queue} queue is 60 minutes')\n",
    "            isvalid = False\n",
    "        if nodes > 8:\n",
    "            print(f'Max number of nodes for {queue} queue is 8')\n",
    "            isvalid = False\n",
    "    else:\n",
    "        if nodes < 128:\n",
    "            print(f'Min number of nodes for {queue} queue is 128')\n",
    "            isvalid = False\n",
    "        else:\n",
    "            if wall_minutes < 30:\n",
    "                print(f'Min wall time for {queue} queue is 30 minutes') \n",
    "                isvalid = False\n",
    "        if nodes < 256 and wall_minutes > 180:\n",
    "                print(f'Max wall time for {queue} queue is 180 minutes') \n",
    "                isvalid = False\n",
    "        elif nodes < 384 and wall_minutes > 360:\n",
    "                print(f'Max wall time for {queue} queue is 360 minutes') \n",
    "                isvalid = False\n",
    "        elif nodes < 640 and wall_minutes > 540:\n",
    "                print(f'Max wall time for {queue} queue is 540 minutes') \n",
    "                isvalid = False\n",
    "        elif nodes < 902 and wall_minutes > 720:\n",
    "                print(f'Max wall time for {queue} queue is 720 minutes') \n",
    "                isvalid = False\n",
    "        elif wall_minutes > 1440:\n",
    "                print('Max wall time on Theta is 1440 minutes') \n",
    "                isvalid = False\n",
    "        else:\n",
    "            isvalid = True\n",
    "    return isvalid\n",
    " \n",
    "def qsub(project='',\n",
    "         script='',\n",
    "         script_file='',\n",
    "         queue='debug-cache-quad',\n",
    "         nodes=1,\n",
    "         wall_minutes=30,\n",
    "         attrs='ssds=required:ssd_size=128',\n",
    "         workdir='',\n",
    "         jobname='',\n",
    "         stdin='',\n",
    "         stdout=''):\n",
    "    \"\"\"\n",
    "    Submits a job to the queue with the given parameters.\n",
    "    Returns Cobalt Job Id if submitted succesfully.\n",
    "    Returns 0 otherwise.\n",
    "    Parameters\n",
    "    ----------\n",
    "    project: str, name of the project to be charged\n",
    "    queue: str, queue name, can be: 'default', 'debug-cache-quad', 'debug-flat-quad', 'backfill'\n",
    "    nodes: int, Number of nodes, can be an integer from 1 to 4096 depending on the queue.\n",
    "    wall_minutes: int, max wall time in minutes, depends on the queue and the number of nodes, max 1440 minutes\n",
    "    \"\"\"\n",
    "    import os\n",
    "    import stat\n",
    "    import time\n",
    "    from subprocess import Popen, PIPE\n",
    "    from os.path import isfile\n",
    "\n",
    "    valid = validate_theta_job(queue=queue, nodes=nodes, wall_minutes=wall_minutes)\n",
    "    if not valid:\n",
    "        print('Job is not valid, change queue, nodes, or wall_minutes.')\n",
    "        return 0\n",
    "    with open(script_file, 'w') as f:\n",
    "        f.write(script)\n",
    "    time.sleep(1)\n",
    "    exists = isfile(script_file)\n",
    "    if exists:\n",
    "        print(f'Created {script_file} on {os.path.abspath(script_file)}.')\n",
    "        st = os.stat(script_file)\n",
    "        os.chmod(script_file, st.st_mode | stat.S_IEXEC)\n",
    "    time.sleep(1)\n",
    "    cmd = f'qsub -A {project} -q {queue} -n {nodes} -t {wall_minutes} --attrs {attrs} '\n",
    "    if workdir:\n",
    "        cmd += f' --cwd {workdir}'\n",
    "    if jobname:\n",
    "        cmd += f' --jobname {jobname}'\n",
    "    if stdin:\n",
    "        cmd += f' -i {stdin}'\n",
    "    if stdout:\n",
    "        cmd += f' -o {stdout}'\n",
    "    cmd += f' {script_file}'\n",
    "    print(f'Submitting: \\n {cmd} ...\\n')\n",
    "    process = Popen(cmd.split(), stdout=PIPE, stderr=PIPE)\n",
    "    out, err = process.communicate()\n",
    "    print(f'job id: {out.decode(\"utf-8\")}')\n",
    "    print(f'stderr: {err.decode(\"utf-8\")}')\n",
    "    return out.decode(\"utf-8\")\n",
    "\n",
    "def i_qsub():\n",
    "    \"\"\"\n",
    "    Submits a job to the queue with the given parameters.\n",
    "    \"\"\"\n",
    "    from ipywidgets import widgets, Layout, interact_manual\n",
    "    from IPython.display import display, clear_output\n",
    "    from os.path import isfile\n",
    "    inodes = widgets.BoundedIntText(value=1, min=1, max=4394, step=1, description='nodes', disabled=False)\n",
    "    iranks_per_node = widgets.BoundedIntText(value=1, min=1, max=64, step=1, description='rank/nodes', disabled=False)\n",
    "    iqueue = widgets.Dropdown(options=['debug-flat-quad','debug-cache-quad','default', 'backfill'],\n",
    "                              description='queue',\n",
    "                              value='debug-cache-quad')\n",
    "    iwall_minutes = widgets.BoundedIntText(value=10, min=10, max=1440, step=10, description='wall minutes', disabled=False)\n",
    "\n",
    "    iscript = widgets.Textarea(value='#!/bin/bash -x \\n',\n",
    "                               description='job script',\n",
    "                               layout=Layout(flex= '0 0 auto', width='auto',height='200px'))\n",
    "    iscript_file= widgets.Text(value='',description='job script file name')\n",
    "    iproject= widgets.Text(value='',description='project')\n",
    "    isave = widgets.Checkbox(value=False,description='save', indent=True)\n",
    "    isubmit = widgets.Button(\n",
    "                    value=False,\n",
    "                    description='submit',\n",
    "                    disabled=False,\n",
    "                    button_style='success',\n",
    "                    tooltip='submit job',\n",
    "                    icon='')\n",
    "    output = widgets.Output()\n",
    "    display(iproject, inodes, iqueue, iwall_minutes, iscript_file, iscript, isubmit, output)\n",
    "    jobid = ''\n",
    "    def submit_clicked(b):\n",
    "        with output:\n",
    "            clear_output()\n",
    "            jobid = qsub(project=iproject.value,\n",
    "                         script=iscript.value,\n",
    "                         script_file=iscript_file.value,\n",
    "                         queue=iqueue.value,\n",
    "                         nodes=inodes.value,\n",
    "                         wall_minutes=iwall_minutes.value)\n",
    "    isubmit.on_click(submit_clicked)\n",
    "    return\n"
   ]
  },
  {
   "cell_type": "code",
   "execution_count": 25,
   "metadata": {},
   "outputs": [],
   "source": [
    "qstat??"
   ]
  },
  {
   "cell_type": "code",
   "execution_count": 26,
   "metadata": {},
   "outputs": [
    {
     "data": {
      "application/vnd.jupyter.widget-view+json": {
       "model_id": "153cd66bdcc04ef2abec00b9f760ebb4",
       "version_major": 2,
       "version_minor": 0
      },
      "text/plain": [
       "interactive(children=(Text(value='keceli', description='user'), Text(value='', description='jobid'), Text(valu…"
      ]
     },
     "metadata": {},
     "output_type": "display_data"
    }
   ],
   "source": [
    "i_qstat()"
   ]
  },
  {
   "cell_type": "code",
   "execution_count": 27,
   "metadata": {},
   "outputs": [
    {
     "data": {
      "application/vnd.jupyter.widget-view+json": {
       "model_id": "573a8e2104094311ba7911e8415b1843",
       "version_major": 2,
       "version_minor": 0
      },
      "text/plain": [
       "VBox(children=(VBox(children=(BoundedIntText(value=1, description='nodes', max=4394, min=1), BoundedIntText(va…"
      ]
     },
     "metadata": {},
     "output_type": "display_data"
    }
   ],
   "source": [
    "i_get_job_script()"
   ]
  },
  {
   "cell_type": "code",
   "execution_count": 28,
   "metadata": {},
   "outputs": [
    {
     "data": {
      "application/vnd.jupyter.widget-view+json": {
       "model_id": "53667e85149a4e068e5b9384041395f4",
       "version_major": 2,
       "version_minor": 0
      },
      "text/plain": [
       "Text(value='', description='project')"
      ]
     },
     "metadata": {},
     "output_type": "display_data"
    },
    {
     "data": {
      "application/vnd.jupyter.widget-view+json": {
       "model_id": "a63caa5242db4e54a5a7925f53f3ae66",
       "version_major": 2,
       "version_minor": 0
      },
      "text/plain": [
       "BoundedIntText(value=1, description='nodes', max=4394, min=1)"
      ]
     },
     "metadata": {},
     "output_type": "display_data"
    },
    {
     "data": {
      "application/vnd.jupyter.widget-view+json": {
       "model_id": "403720f7bf164b0b81d4f6a8bbe20fcf",
       "version_major": 2,
       "version_minor": 0
      },
      "text/plain": [
       "Dropdown(description='queue', index=1, options=('debug-flat-quad', 'debug-cache-quad', 'default', 'backfill'),…"
      ]
     },
     "metadata": {},
     "output_type": "display_data"
    },
    {
     "data": {
      "application/vnd.jupyter.widget-view+json": {
       "model_id": "f1d87beeb4c84efc9a1e4d401e4962f7",
       "version_major": 2,
       "version_minor": 0
      },
      "text/plain": [
       "BoundedIntText(value=10, description='wall minutes', max=1440, min=10, step=10)"
      ]
     },
     "metadata": {},
     "output_type": "display_data"
    },
    {
     "data": {
      "application/vnd.jupyter.widget-view+json": {
       "model_id": "d08cf33b99124d9c9c315d840b344743",
       "version_major": 2,
       "version_minor": 0
      },
      "text/plain": [
       "Text(value='', description='job script file name')"
      ]
     },
     "metadata": {},
     "output_type": "display_data"
    },
    {
     "data": {
      "application/vnd.jupyter.widget-view+json": {
       "model_id": "b254cbf4c05e459d96588bca26324279",
       "version_major": 2,
       "version_minor": 0
      },
      "text/plain": [
       "Textarea(value='#!/bin/bash -x \\n', description='job script', layout=Layout(flex='0 0 auto', height='200px', w…"
      ]
     },
     "metadata": {},
     "output_type": "display_data"
    },
    {
     "data": {
      "application/vnd.jupyter.widget-view+json": {
       "model_id": "83f50e03a5c04cb49cb406394118f67f",
       "version_major": 2,
       "version_minor": 0
      },
      "text/plain": [
       "Button(button_style='success', description='submit', style=ButtonStyle(), tooltip='submit job')"
      ]
     },
     "metadata": {},
     "output_type": "display_data"
    },
    {
     "data": {
      "application/vnd.jupyter.widget-view+json": {
       "model_id": "55ea2d73955f436f952bec7b69f46032",
       "version_major": 2,
       "version_minor": 0
      },
      "text/plain": [
       "Output()"
      ]
     },
     "metadata": {},
     "output_type": "display_data"
    }
   ],
   "source": [
    "i_qsub()"
   ]
  },
  {
   "cell_type": "code",
   "execution_count": 29,
   "metadata": {},
   "outputs": [
    {
     "data": {
      "application/vnd.jupyter.widget-view+json": {
       "model_id": "cd12b0439ca7436497d4c5c88e2989e1",
       "version_major": 2,
       "version_minor": 0
      },
      "text/plain": [
       "Tab(children=(Textarea(value='hello world\\nhello world\\nApplication 21737927 resources: utime ~0s, stime ~1s, …"
      ]
     },
     "metadata": {},
     "output_type": "display_data"
    }
   ],
   "source": [
    "jobid=475487\n",
    "i_show_logs(job_prefix=jobid)"
   ]
  },
  {
   "cell_type": "code",
   "execution_count": 30,
   "metadata": {},
   "outputs": [
    {
     "name": "stdout",
     "output_type": "stream",
     "text": [
      "{'boot_seconds': 22,\n",
      " 'boot_time': datetime.timedelta(seconds=22, microseconds=22000),\n",
      " 'cobalt_endtime': '1603774625',\n",
      " 'cobalt_starttime': '1603774025',\n",
      " 'end_time': datetime.datetime(2020, 10, 27, 4, 48, 18, tzinfo=tzlocal()),\n",
      " 'exit_code': 'removal',\n",
      " 'home': '/home/keceli',\n",
      " 'init_time': datetime.datetime(2020, 10, 27, 4, 47, 17, 978000),\n",
      " 'job_time': datetime.timedelta(seconds=38),\n",
      " 'jobid': '475487',\n",
      " 'jobsize': '1',\n",
      " 'logname': 'keceli',\n",
      " 'partcores': '64',\n",
      " 'partname': '3828',\n",
      " 'partsize': '1',\n",
      " 'project': 'datascience',\n",
      " 'qsub_cmd': 'qsub -A datascience -q debug-cache-quad -n 1 -t 10 --attrs '\n",
      "             'ssds=required:ssd_size=128 test_i_qsub.sh',\n",
      " 'queue': 'debug-cache-quad',\n",
      " 'queue_seconds': 36,\n",
      " 'queue_time': datetime.timedelta(seconds=36, microseconds=978000),\n",
      " 'script': \"'/gpfs/mira-home/keceli/test_i_qsub.sh'\",\n",
      " 'shell': '/bin/bash',\n",
      " 'start_time': datetime.datetime(2020, 10, 27, 4, 47, 40, tzinfo=tzlocal()),\n",
      " 'stderr': '/gpfs/mira-home/keceli/475487.error',\n",
      " 'stdin': '/dev/null',\n",
      " 'stdout': '/gpfs/mira-home/keceli/475487.output',\n",
      " 'submit_time': datetime.datetime(2020, 10, 27, 4, 46, 41, tzinfo=tzlocal()),\n",
      " 'user': 'keceli',\n",
      " 'wall_seconds': 38,\n",
      " 'work_dir': '/gpfs/mira-home/keceli'}\n"
     ]
    }
   ],
   "source": [
    "jobinfo = parse_cobaltlog(prefix=jobid)"
   ]
  },
  {
   "cell_type": "code",
   "execution_count": 31,
   "metadata": {},
   "outputs": [
    {
     "name": "stdout",
     "output_type": "stream",
     "text": [
      "submit_time: 2020-10-27 04:46:41+00:00\n",
      "init_time: 2020-10-27 04:47:17.978000\n",
      "queue_time: 0:00:36.978000\n",
      "queue_seconds: 36\n",
      "start_time: 2020-10-27 04:47:40+00:00\n",
      "boot_time: 0:00:22.022000\n",
      "boot_seconds: 22\n",
      "end_time: 2020-10-27 04:48:18+00:00\n",
      "job_time: 0:00:38\n",
      "wall_seconds: 38\n"
     ]
    }
   ],
   "source": [
    "print_cobalt_times(prefix=jobid)"
   ]
  },
  {
   "cell_type": "markdown",
   "metadata": {},
   "source": [
    "* There is 1 min overhead for a single node job, more with more number of nodes "
   ]
  }
 ],
 "metadata": {
  "kernelspec": {
   "display_name": "Python 3",
   "language": "python",
   "name": "python3"
  },
  "language_info": {
   "codemirror_mode": {
    "name": "ipython",
    "version": 3
   },
   "file_extension": ".py",
   "mimetype": "text/x-python",
   "name": "python",
   "nbconvert_exporter": "python",
   "pygments_lexer": "ipython3",
   "version": "3.7.4"
  }
 },
 "nbformat": 4,
 "nbformat_minor": 2
}
