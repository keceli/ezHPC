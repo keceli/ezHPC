{
 "cells": [
  {
   "cell_type": "markdown",
   "metadata": {
    "slideshow": {
     "slide_type": "slide"
    }
   },
   "source": [
    "<center>\n",
    "<img src='images/title23_2.png' width=100% height=100%>\n",
    "</center>"
   ]
  },
  {
   "cell_type": "markdown",
   "metadata": {
    "slideshow": {
     "slide_type": "slide"
    }
   },
   "source": [
    "# Outline\n",
    "* Overview of [JupyterHub Webinar](https://www.alcf.anl.gov/support-center/training-assets/towards-interactive-high-performance-computing-alcf-jupyterhub-0) in 2020\n",
    "    * Project Jupyter\n",
    "    * What you can do with Jupyter?\n",
    "    * Jupyter/IPython basics \n",
    "    * Introduction to markdown, magic, widgets\n",
    "    * Introduction to ALCF JupyterHub\n",
    "    * Live Demos on kernel installation, submitting jobs, and using Balsam interactively.\n",
    "* Recent Developments in Jupyter\n",
    "* JupyterLab vs Jupyter Notebook\n",
    "* ALCF JupyterHub on ThetaGPU and Polaris\n",
    "* Live Demos for JupyterLab Features and JupyterHub for Polaris"
   ]
  },
  {
   "cell_type": "markdown",
   "metadata": {
    "slideshow": {
     "slide_type": "slide"
    }
   },
   "source": [
    "# Project Jupyter\n",
    "* Started in 2014, as an IPython spin-off project led by Fernando Perez to “develop open-source software, open-standards, and services for interactive computing”.\n",
    "* Inspired by Galileo’s notebooks and languages used in scientific software: Julia, Python, and R. \n",
    "<center>\n",
    "<img src='images/galileo.png' width=50% height=50%>\n",
    "</center>"
   ]
  },
  {
   "cell_type": "markdown",
   "metadata": {
    "slideshow": {
     "slide_type": "slide"
    }
   },
   "source": [
    "# Jupyter X\n",
    "<center>\n",
    "<img src='images/jupyterx.png' width=80% height=80%>\n",
    "</center>"
   ]
  },
  {
   "cell_type": "markdown",
   "metadata": {
    "slideshow": {
     "slide_type": "slide"
    }
   },
   "source": [
    "# What can you do with Jupyter?\n",
    "* Interactive development environment:\n",
    "    * Fast code prototyping, test new ideas easily.\n",
    "    * Most languages are supported through [Jupyter kernels](https://github.com/jupyter/jupyter/wiki/Jupyter-kernels).\n",
    "* Education:\n",
    "    * Prepare tutorials, run demos\n",
    "    * Grade assignments with [nbgrader](https://nbgrader.readthedocs.io/en/stable/)\n",
    "* Data analysis and visualization\n",
    "* Presentations with [RISE](https://rise.readthedocs.io/) via Reveal.js or with native _Presentaion Mode_.\n",
    "* Interactive work on HPC centers or cloud:\n",
    "    * JupyterHub\n",
    "    * [Google Colab](https://colab.research.google.com)\n",
    "    * [Binder](https://mybinder.org/)\n",
    "    * Kaggle, Deepnote, AWS SageMaker, Azure...\n"
   ]
  },
  {
   "cell_type": "markdown",
   "metadata": {
    "slideshow": {
     "slide_type": "slide"
    },
    "tags": []
   },
   "source": [
    "# Jupyter Notebook Shortcuts\n",
    "\n",
    "* `Esc/Enter` get in command/edit mode\n",
    "\n",
    "| Command mode                   | Edit mode|\n",
    "| :-------------                 | :------------------------  |\n",
    "|  `h` show (edit) all shortcuts | `shift enter` Run cell, select below    |\n",
    "| `a/b` insert cell above/below  |`cmd/ctrl enter` Run cell|\n",
    "| `c/x` copy/cut selected cell   |`tab` completion or indent|\n",
    "| `V/v` paste cell above/below   |`shift tab` tooltip|\n",
    "| `d,d` delete cell              |`cmd/ctrl d` delete line|\n",
    "| `y/m/r` code/markdown/raw mode |`cmd/ctrl a` select all|\n",
    "| `f` search, replace            |`cmd/ctrl z` undo|\n",
    "| `p` open the command palette   | `cmd/ctrl /` comment|\n",
    "\n",
    "> **_NOTE:_** JupyterLab doesn't supprt `h`, `f`, and `p`. For the shortcut list check [here](https://gist.github.com/discdiver/9e00618756d120a8c9fa344ac1c375ac), for search and replace use `cmd/ctrl F`, for command pallette use `shift cmd/ctrl C`."
   ]
  },
  {
   "cell_type": "markdown",
   "metadata": {
    "slideshow": {
     "slide_type": "slide"
    }
   },
   "source": [
    "#  Markdown\n",
    "* bullet list: \n",
    "    * subbullet\n",
    "* equation: $E=mc^2$\n",
    "* inline code: `echo hello jupyter`\n",
    "* code block:\n",
    "  \n",
    "  ```python\n",
    "  for i in range(33):\n",
    "      print(i)\n",
    "  ```\n",
    "* A clickable link: [JupyterHub Webinar](https://alcf.anl.gov/events/towards-interactive-high-performance-computing-alcf-jupyterhub)\n",
    "* A table:\n",
    "\n",
    "| Col 1 | Col 2| Col 3|\n",
    "| :-----| :---:|----: |\n",
    "| 1, 1  | 1,2  | 1,3  |\n",
    "| 2, 1  | 2,2  | 2,3  |\n",
    "| 3, 1  | 3,2  | 3,3  |\n",
    "\n",
    "* A kitten:\n",
    "  \n",
    "<img align=\"middle\" src='images/kittencc.jpg' width=120>\n"
   ]
  },
  {
   "cell_type": "markdown",
   "metadata": {
    "slideshow": {
     "slide_type": "slide"
    },
    "tags": []
   },
   "source": [
    "# IPython Magic\n",
    "* Magic functions are prefixed by `%` (line magic) or `%%` (cell magic)\n",
    "* Cell magic `%%` should be at the first line\n",
    "* Shell commands are prefixed by `!`\n",
    "* `%quickref`: Quick reference card for IPython\n",
    "* `%magic`: Info on IPython magic functions\n",
    "* `%debug`: Interactive debugger\n",
    "* `%timeit`: Report time execution\n",
    "* `%prun`: Profile (%lprun is better, `pip install lprun` and `%load_ext line_profiler`)"
   ]
  },
  {
   "cell_type": "code",
   "execution_count": null,
   "metadata": {
    "scrolled": true,
    "slideshow": {
     "slide_type": "slide"
    }
   },
   "outputs": [],
   "source": [
    "%magic"
   ]
  },
  {
   "cell_type": "code",
   "execution_count": null,
   "metadata": {
    "slideshow": {
     "slide_type": "fragment"
    }
   },
   "outputs": [],
   "source": [
    "import numpy as np\n",
    "a = [1]*1000\n",
    "%timeit sum(a)\n",
    "b = np.array(a)\n",
    "%timeit np.sum(a)\n",
    "%timeit np.sum(b)"
   ]
  },
  {
   "cell_type": "markdown",
   "metadata": {
    "slideshow": {
     "slide_type": "slide"
    }
   },
   "source": [
    "# Jupyter Widgets (ipywidgets)\n",
    "* Widgets are basic GUI elements that can enhance interactivity on a Jupyter notebook\n",
    "* Enables using sliders, text boxes, buttons, and more that can link input and output."
   ]
  },
  {
   "cell_type": "code",
   "execution_count": 1,
   "metadata": {
    "slideshow": {
     "slide_type": "fragment"
    }
   },
   "outputs": [
    {
     "data": {
      "application/vnd.jupyter.widget-view+json": {
       "model_id": "0e0acfcb893a4ed89dcfe7cb1e616b31",
       "version_major": 2,
       "version_minor": 0
      },
      "text/plain": [
       "IntSlider(value=0)"
      ]
     },
     "metadata": {},
     "output_type": "display_data"
    }
   ],
   "source": [
    "import ipywidgets\n",
    "w = ipywidgets.IntSlider()\n",
    "display(w)"
   ]
  },
  {
   "cell_type": "code",
   "execution_count": 2,
   "metadata": {
    "slideshow": {
     "slide_type": "fragment"
    }
   },
   "outputs": [
    {
     "data": {
      "application/vnd.jupyter.widget-view+json": {
       "model_id": "c1584f7a21b34482af13110dcaabdef3",
       "version_major": 2,
       "version_minor": 0
      },
      "text/plain": [
       "Text(value='Hello Jupyter!')"
      ]
     },
     "execution_count": 2,
     "metadata": {},
     "output_type": "execute_result"
    }
   ],
   "source": [
    "ipywidgets.Text(value='Hello Jupyter!', disabled=False)"
   ]
  },
  {
   "cell_type": "code",
   "execution_count": 3,
   "metadata": {
    "slideshow": {
     "slide_type": "fragment"
    }
   },
   "outputs": [
    {
     "data": {
      "application/vnd.jupyter.widget-view+json": {
       "model_id": "48b916cbd1dd44e0b2cde62991e4d7db",
       "version_major": 2,
       "version_minor": 0
      },
      "text/plain": [
       "ToggleButton(value=False, button_style='danger', description=\"Don't click\", tooltip='Description')"
      ]
     },
     "execution_count": 3,
     "metadata": {},
     "output_type": "execute_result"
    }
   ],
   "source": [
    "ipywidgets.ToggleButton(value=False, description=\"Don't click\", \n",
    "                     button_style='danger', tooltip='Description',)"
   ]
  },
  {
   "cell_type": "markdown",
   "metadata": {
    "jp-MarkdownHeadingCollapsed": true,
    "slideshow": {
     "slide_type": "slide"
    }
   },
   "source": [
    "# ALCF JupyterHub\n",
    "* If you are an ALCF user, you can log in to Jupyter Hub at https://jupyter.alcf.anl.gov using your ALCF credentials.\n",
    "* If not, check https://alcf.anl.gov/support-center/get-started\n",
    "* Jupyter Hub instances runs on an external servers, but not on login, mom, ~~or compute nodes~~.\n",
    "* Servers have 16 core Intel(R) Xeon(R) CPU E5-2683 and 512 GB memory and reserved for data analytics and visualization, not simulations. \n",
    "<center>\n",
    "<img align=\"center\" width=600 src='images/jupyterhub_login.png' >\n",
    "</center>\n"
   ]
  },
  {
   "cell_type": "markdown",
   "metadata": {
    "slideshow": {
     "slide_type": "slide"
    }
   },
   "source": [
    "# ALCF JupyterHub\n",
    "* JupyterHub for Cooley :\n",
    "    * runs on jupyter01.mcp.alcf.anl.gov\n",
    "    * has access to the user's home folder `/home/$USER`, ~~the Mira projects folder  /projects, and the Theta project folder /lus/theta-fs0/projects~~\n",
    "    * submitted jobs will run on Cooley\n",
    "* JupyterHub for Theta:\n",
    "    * runs on jupyter02.mcp.alcf.anl.gov\n",
    "    * has access to your home folder `/home/$USER` and projects folder ~~/lus/theta-fs0/projects~~\n",
    "    * does not have access to `/opt/cray`, `/opt/intel`, etc., that is, you cannot use any Theta modules or any Cray libraries.\n",
    "    * Submitted jobs will run on Theta"
   ]
  },
  {
   "cell_type": "markdown",
   "metadata": {
    "slideshow": {
     "slide_type": "slide"
    }
   },
   "source": [
    "# Notes\n",
    "\n",
    "* JupyterHub starts on your home folder, to access project folders, you can create a symbolic link `!ln -s /project/my_project my_project`\n",
    "* If you have a broken symlink on your home directory, JupyterHub gives a server error with `permission denied` message. You need to clean up / fix the broken symbolink links.\n",
    "* When you exceed your file quota, you may also experience problems. Check with `myquota`.\n",
    "* To run JupyterLab on JupyterHub, modify the link to `https://jupyter.alcf.anl.gov/cooley/user/$USER/lab`.\n",
    "* Documentation is available at ~~https://www.alcf.anl.gov/support-center/theta/jupyter-hub~~ https://docs.alcf.anl.gov/services/jupyter-hub/."
   ]
  },
  {
   "cell_type": "markdown",
   "metadata": {
    "slideshow": {
     "slide_type": "slide"
    },
    "tags": []
   },
   "source": [
    "# Custom Python environments & IPython kernels\n",
    "## Step 0\n",
    "* Check the names of the existing environments & kernels:\n",
    " ```bash\n",
    " !conda env list\n",
    " !jupyter kernelspec list\n",
    " ```\n",
    "\n",
    "* Select a name for the new environment & kernel.\n",
    "* Using a prefix such as `jhub_` is helpful to distinguish JupyterHub environments from others.\n",
    "\n",
    " ```bash\n",
    " ENVNAME=\"jhub_demo\"\n",
    " ```"
   ]
  },
  {
   "cell_type": "markdown",
   "metadata": {
    "slideshow": {
     "slide_type": "slide"
    }
   },
   "source": [
    "## Step 1\n",
    "\n",
    "* Create a new environment\n",
    "```bash\n",
    "!conda create -y --name $ENVNAME\n",
    "```\n",
    "\n",
    "* Or, create a new environment with a different python version\n",
    "```bash\n",
    "!conda create -y --name $ENVNAME python=3.8\n",
    "```\n",
    "\n",
    "* Or, create a new environment with a clone of the base environment (recommended)\n",
    "```bash\n",
    "!conda create -y --name $ENVNAME --clone base\n",
    "```"
   ]
  },
  {
   "cell_type": "markdown",
   "metadata": {
    "slideshow": {
     "slide_type": "slide"
    }
   },
   "source": [
    "## A step backward\n",
    "\n",
    "* If you want change the env name, you may need to remove the environment\n",
    "```bash\n",
    "!conda env remove -y --name $ENVNAME\n",
    "```"
   ]
  },
  {
   "cell_type": "markdown",
   "metadata": {
    "slideshow": {
     "slide_type": "slide"
    }
   },
   "source": [
    "## Step 2\n",
    "\n",
    "* Install new packages with `conda`, or `pip`\n",
    "```bash\n",
    "!source activate $ENVNAME; conda install -y -c conda-forge rise\n",
    "```\n",
    "```bash\n",
    "!source activate $ENVNAME; pip install balsam-flow\n",
    "```\n",
    "* Or, if you didn't clone from the base, you need to install the following packages additionally:\n",
    "```bash\n",
    "!source activate $ENVNAME; conda install -y jupyter nb_conda                  ipykernel\n",
    "```"
   ]
  },
  {
   "cell_type": "markdown",
   "metadata": {
    "slideshow": {
     "slide_type": "slide"
    }
   },
   "source": [
    "## Step 3\n",
    "\n",
    "* Install the kernel for Jupyter\n",
    "```bash\n",
    "!source activate $ENVNAME;python -m ipykernel install --user --name $ENVNAME\n",
    "```"
   ]
  },
  {
   "cell_type": "markdown",
   "metadata": {
    "slideshow": {
     "slide_type": "slide"
    }
   },
   "source": [
    "## Final steps\n",
    "* Refresh the browser or open a new notebook.\n",
    "* Select the new `Kernel` from the top dropdownlist\n",
    "* When you need to install another package, you only need to run the following steps\n",
    "\n",
    "```bash\n",
    "ENVNAME='jhub_demo'\n",
    "!source activate $ENVNAME; conda install -y <any_conda_package>\n",
    "!source activate $ENVNAME; pip install -c <any_pypi_package>\n",
    "```"
   ]
  },
  {
   "cell_type": "markdown",
   "metadata": {
    "slideshow": {
     "slide_type": "slide"
    }
   },
   "source": [
    "# Notes\n",
    "\n",
    "* Check the installation with\n",
    "\n",
    "```python\n",
    "!conda list\n",
    "import <any_package>\n",
    "print(<any_package>.__file__)\n",
    "print(<any_package>.__version__)\n",
    "```\n",
    "* Do not use environments installed on JupyterHub elsewhere."
   ]
  },
  {
   "cell_type": "markdown",
   "metadata": {
    "slideshow": {
     "slide_type": "slide"
    }
   },
   "source": [
    "# Clean up\n",
    "\n",
    "* You may run out of space quickly, check with `myquota`.\n",
    "* You can run `conda clean` to remove index cache, lock files, tarballs, unused cache packages, and source cache\n",
    "```bash\n",
    "!conda clean --all -y\n",
    "```\n",
    "* To remove an environment and the kernel you don't need:\n",
    "```bash\n",
    "!conda env remove -y -n $ENVNAME\n",
    "!jupyter kernelspec uninstall -y $ENVNAME\n",
    "```"
   ]
  },
  {
   "cell_type": "markdown",
   "metadata": {
    "slideshow": {
     "slide_type": "slide"
    }
   },
   "source": [
    "# Resources\n",
    "* [Fernando Perez’s Project Jupyter presentation](https://files.speakerdeck.com/presentations/5cd35ca0e91b01319d42227239d9f24b/jupyter-announce-scipy-2014.pdf)\n",
    "* jupyter.org\n",
    "    * Check out Voilà, Jupyter Lab, Jupyter Book\n",
    "* [Jupyter tutorial](https://coderefinery.github.io/jupyter/)\n",
    "* [Version control for Jupyter](https://nbdime.readthedocs.io/en/latest/)\n",
    "* [ALCF ML tutorials](https://github.com/argonne-lcf/ATPESC_MachineLearning)\n",
    "* [More ALCF notebooks](https://github.com/jupyter4hpc/ALCF_notebooks)"
   ]
  },
  {
   "cell_type": "markdown",
   "metadata": {
    "slideshow": {
     "slide_type": "slide"
    },
    "tags": []
   },
   "source": [
    "# What has changed since 2020\n",
    "\n",
    "* Jupyter Lab 2.2 -> 4.0, Jupyter Notebook 6.1 -> 7.0\n",
    "    * Real time colloboration: `pip install jupyter-collaboration`\n",
    "    * Visual debugger\n",
    "    * Faster rendering\n",
    "    * More extensions (git, nbdime, jupyter-ai, NVDashboard,...)\n",
    "    * Standalone desktop version"
   ]
  },
  {
   "cell_type": "markdown",
   "metadata": {
    "slideshow": {
     "slide_type": "slide"
    },
    "tags": []
   },
   "source": [
    "# Jupyter Lab vs Notebook\n",
    "\n",
    "* Provides a more extensive, IDE-like environment where users can manage multiple notebooks, terminals, and other file types in one interface. It has a modular and extensible design.\n",
    "* Offers a flexible and responsive UI layout allowing users to organize multiple documents and activities side by side using panels and tabs. Supports drag-and-drop for cells within and between notebooks.\n",
    "* Supports not only Jupyter notebooks but also other file types like Markdown with preview, CSV, JSON, PNG, PDF, and more. \n",
    "* Designed to be modular, enabling users to customize and enhance their environment by adding/removing components.\n",
    "* Represents the next generation of the Jupyter interface and is where most of the new development efforts are focused."
   ]
  },
  {
   "cell_type": "markdown",
   "metadata": {
    "slideshow": {
     "slide_type": "slide"
    },
    "tags": []
   },
   "source": [
    "# ALCF JupyterHub for ThetaGPU\n",
    "* You can find up to date information in [ALCF documentation for JupyterHub](https://docs.alcf.anl.gov/services/jupyter-hub/).\n",
    "* The ThetaGPU JupyterHub instance can run either on an external server or directly on ThetaGPU compute nodes.\n",
    "* \"Local Host Process” will start the Jupyter Notebook on the JupyterHub server\n",
    "(external to the compute resource).\n",
    "* \"ThetaGPU Compute Node\" will allow a user to start a Jupyter Notebook instance on an available compute node by requesting a node via the job scheduler, Cobalt.\n",
    "<center>\n",
    "<img align=\"center\" width=\"400\" src=\"images/Jupyter-1-job-profile.png\">\n",
    "</center>"
   ]
  },
  {
   "cell_type": "markdown",
   "metadata": {
    "slideshow": {
     "slide_type": "slide"
    },
    "tags": []
   },
   "source": [
    "# ALCF JupyterHub for ThetaGPU\n",
    "\n",
    "- ThetaGPU Queue (MinTime/MaxTime): This field provide a list of available\n",
    "  queues on the system with the minimum and maximum times allowed for each\n",
    "  queue.\n",
    "- Project List:  This field displays the active projects associated with the\n",
    "  user on the given system (ThetaGPU).\n",
    "- Runtime (minutes):  This field allows the user to set the runtime of the job\n",
    "  in minutes. Please note that minimum and maximum times are shown on the menu.\n",
    "\n",
    "<center>\n",
    "<img align=\"center\" width=\"600\" src=\"images/Jupyter-2-job-options.png\">\n",
    "</center>"
   ]
  },
  {
   "cell_type": "markdown",
   "metadata": {
    "slideshow": {
     "slide_type": "slide"
    },
    "tags": []
   },
   "source": [
    "# ALCF JupyterHub for Polaris\n",
    "\n",
    "- Runs on Polaris compute nodes through the PBS job scheduler. \n",
    "- Select a job profile:  This field lists the available profiles, which is\n",
    "  limited to “Polaris Compute Node” at this time.\n",
    "- Queue Name: This field provide a list of available queues on the system.\n",
    "- Project List: This field displays the active projects associated with the user\n",
    "  on Polaris.\n",
    "- Number of Nodes: This field allows the user to select the number of compute\n",
    "  nodes to be allocated.\n",
    "- Runtime (minutes:seconds) : This field allows the user to set the runtime of\n",
    "  the job in minutes and seconds. The user should refer to the [Polaris queue\n",
    "  scheduling\n",
    "  policy](../theta-gpu/queueing-and-running-jobs/job-and-queue-scheduling.md)\n",
    "  for minimum and maximum runtime allowed for the selected queue.\n",
    "- File Systems: This field allows the user to select the file systems to be\n",
    "  mounted. By default all the file systems are selected.\n",
    "\n",
    "<center>\n",
    "<img align=\"center\" width=\"300\" src=\"images/Jupyter-6-job-options.png\">\n",
    "</center>"
   ]
  },
  {
   "cell_type": "markdown",
   "metadata": {
    "slideshow": {
     "slide_type": "slide"
    },
    "tags": []
   },
   "source": [
    "# Live Demo\n",
    "\n",
    "* All materials are at https://github.com/keceli/ezHPC\n",
    "```bash\n",
    "git clone https://github.com/keceli/ezHPC\n",
    "```\n",
    "<center>\n",
    "<img align=\"center\" width=\"200\" src=\"images/DALL·E_overkill.png\">\n",
    "<img align=\"center\" width=\"200\" src=\"images/DALL·E_jonglor.png\">\n",
    "</center>\n"
   ]
  },
  {
   "cell_type": "markdown",
   "metadata": {
    "slideshow": {
     "slide_type": "slide"
    },
    "tags": []
   },
   "source": [
    "<center>\n",
    "<img align=\"right\" width=\"150\" src=\"images/DALL·E_long_queue .png\">\n",
    "</center>\n",
    "\n",
    "# Long Queues\n",
    "* Timeouts with Long Queues: When both the debug and production queues are backed up, users may experience timeouts on JupyterHub.\n",
    "* Debug Queue Time Limit: Jobs submitted to the debug queue are limited to a one-hour runtime.\n",
    "* Production Queue Node Requirement: The production queue, which has a time limit of 3 hours, requires a minimum of 10 nodes for job submission.\n",
    "* Possible solution: Introduction of a Jupyter-specific queue. This would enable users to run tasks on a single GPU for extended period of time. Jobs can be killed for inactivity\n",
    "* Possible solution: Allocation of some number of nodes (ThetaGPU or Polaris) for JupyterHub.\n"
   ]
  },
  {
   "cell_type": "markdown",
   "metadata": {
    "slideshow": {
     "slide_type": "slide"
    },
    "tags": []
   },
   "source": [
    "# JupyterLab Extensions\n",
    "* Currently only widgets and pygments extensions are enabled.\n",
    "* Attempts to install additional extensions result in 404 errors or produce a message indicating server-side installation requirements.\n",
    "* Possible solution: Enable widely-used extensions such as git, NVDashboard for all users.\n",
    "* Possible solution: Provide isolated environments where users have the freedom to install any extension without affecting the main setup. \n"
   ]
  },
  {
   "cell_type": "markdown",
   "metadata": {
    "slideshow": {
     "slide_type": "slide"
    }
   },
   "source": [
    "<img align=\"right\" width=\"160\" src=\"images/anl.png\">\n",
    "\n",
    "# Acknowledgements\n",
    "\n",
    "* Thank you all for attending.\n",
    "* Thanks to Venkat (ALCF Data Science group lead)  and Mike (ALCF director) for supporting Jupyter.\n",
    "* Thanks to Tommie (ALCF systems admin) for operating and maintaining JupyterHub server.\n",
    "* This study used resources of the Argonne Leadership Computing Facility, a U.S. Department of Energy (DOE) Office of Science user facility at Argonne National Laboratory and is based on research supported by the U.S. DOE Office of Science-Advanced Scientific Computing Research Program, under Contract No. DE-AC02-06CH11357.\n",
    "\n"
   ]
  }
 ],
 "metadata": {
  "celltoolbar": "Slideshow",
  "kernelspec": {
   "display_name": "user_guide",
   "language": "python",
   "name": "user_guide"
  },
  "language_info": {
   "codemirror_mode": {
    "name": "ipython",
    "version": 3
   },
   "file_extension": ".py",
   "mimetype": "text/x-python",
   "name": "python",
   "nbconvert_exporter": "python",
   "pygments_lexer": "ipython3",
   "version": "3.11.6"
  },
  "widgets": {
   "application/vnd.jupyter.widget-state+json": {
    "state": {
     "0e0acfcb893a4ed89dcfe7cb1e616b31": {
      "model_module": "@jupyter-widgets/controls",
      "model_module_version": "2.0.0",
      "model_name": "IntSliderModel",
      "state": {
       "behavior": "drag-tap",
       "layout": "IPY_MODEL_48cdf8fbb3c743ae8cb20cb02e85a186",
       "style": "IPY_MODEL_1283bcab93f9496fa4f14d83d48b3fc6"
      }
     },
     "1283bcab93f9496fa4f14d83d48b3fc6": {
      "model_module": "@jupyter-widgets/controls",
      "model_module_version": "2.0.0",
      "model_name": "SliderStyleModel",
      "state": {
       "description_width": ""
      }
     },
     "146299af45e148b3af3b56d1d6fc4441": {
      "model_module": "@jupyter-widgets/controls",
      "model_module_version": "2.0.0",
      "model_name": "ToggleButtonStyleModel",
      "state": {
       "description_width": "",
       "font_family": null,
       "font_size": null,
       "font_style": null,
       "font_variant": null,
       "font_weight": null,
       "text_color": null,
       "text_decoration": null
      }
     },
     "48b916cbd1dd44e0b2cde62991e4d7db": {
      "model_module": "@jupyter-widgets/controls",
      "model_module_version": "2.0.0",
      "model_name": "ToggleButtonModel",
      "state": {
       "button_style": "danger",
       "description": "Don't click",
       "layout": "IPY_MODEL_bcd547f80b294c9b8f5a0d6effadce0e",
       "style": "IPY_MODEL_146299af45e148b3af3b56d1d6fc4441",
       "tooltip": "Description"
      }
     },
     "48cdf8fbb3c743ae8cb20cb02e85a186": {
      "model_module": "@jupyter-widgets/base",
      "model_module_version": "2.0.0",
      "model_name": "LayoutModel",
      "state": {}
     },
     "bcd547f80b294c9b8f5a0d6effadce0e": {
      "model_module": "@jupyter-widgets/base",
      "model_module_version": "2.0.0",
      "model_name": "LayoutModel",
      "state": {}
     },
     "c1584f7a21b34482af13110dcaabdef3": {
      "model_module": "@jupyter-widgets/controls",
      "model_module_version": "2.0.0",
      "model_name": "TextModel",
      "state": {
       "layout": "IPY_MODEL_ff03a6170a8a463f9d90fcd88b3367ff",
       "style": "IPY_MODEL_c87b9f7a10594b59b89ae2c743b261ef",
       "value": "Hello Jupyter!"
      }
     },
     "c87b9f7a10594b59b89ae2c743b261ef": {
      "model_module": "@jupyter-widgets/controls",
      "model_module_version": "2.0.0",
      "model_name": "TextStyleModel",
      "state": {
       "description_width": "",
       "font_size": null,
       "text_color": null
      }
     },
     "ff03a6170a8a463f9d90fcd88b3367ff": {
      "model_module": "@jupyter-widgets/base",
      "model_module_version": "2.0.0",
      "model_name": "LayoutModel",
      "state": {}
     }
    },
    "version_major": 2,
    "version_minor": 0
   }
  }
 },
 "nbformat": 4,
 "nbformat_minor": 4
}
