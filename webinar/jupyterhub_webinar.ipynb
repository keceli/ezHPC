{
 "cells": [
  {
   "cell_type": "markdown",
   "metadata": {
    "slideshow": {
     "slide_type": "slide"
    }
   },
   "source": [
    "<center>\n",
    "<img src='images/title.png' width=100% height=100%>\n",
    "</center>"
   ]
  },
  {
   "cell_type": "markdown",
   "metadata": {
    "slideshow": {
     "slide_type": "slide"
    }
   },
   "source": [
    "# Outline\n",
    "* Project Jupyter\n",
    "* What you can do with Jupyter?\n",
    "* Jupyter/IPython basics \n",
    "* Introduction to markdown, magic, widgets\n",
    "* Introduction to ALCF JupyterHub\n",
    "* Live Demos\n",
    "    * New kernel installation\n",
    "    * ezCobalt: how to submit jobs\n",
    "    * ezBalsam: how to use Balsam"
   ]
  },
  {
   "cell_type": "markdown",
   "metadata": {
    "slideshow": {
     "slide_type": "slide"
    }
   },
   "source": [
    "# Disclaimer\n",
    "* This webinar will not cover:\n",
    "    * low level details about queuing or ensembling jobs or creating Balsam workflows, etc. covered in a [previous webinar](https://alcf.anl.gov/events/best-practices-queueing-and-running-jobs-theta)\n",
    "    * using Jupyter through an ssh tunnel, reverse proxy, or remote kernels\n",
    "    * using Dask, Spark, Kubernetes, or a container for distributed computing\n",
    "    * accessing compute nodes directly\n",
    "* ALCF JupyterHub is a new service and improving rapidly. You can send an email to support@alcf.anl.gov (cc: keceli@anl.gov) for problems and suggestions.\n"
   ]
  },
  {
   "cell_type": "markdown",
   "metadata": {
    "slideshow": {
     "slide_type": "slide"
    }
   },
   "source": [
    "# Project Jupyter\n",
    "* Started in 2014, as an IPython spin-off project led by Fernando Perez to “develop open-source software, open-standards, and services for interactive computing”.\n",
    "* Inspired by Galileo’s notebooks and languages used in scientific software: Julia, Python, and R. \n",
    "<center>\n",
    "<img src='images/galileo.png' width=50% height=50%>\n",
    "</center>"
   ]
  },
  {
   "cell_type": "markdown",
   "metadata": {
    "slideshow": {
     "slide_type": "slide"
    }
   },
   "source": [
    "# Jupyter X\n",
    "<center>\n",
    "<img src='images/jupyterx.png' width=80% height=80%>\n",
    "</center>"
   ]
  },
  {
   "cell_type": "markdown",
   "metadata": {
    "slideshow": {
     "slide_type": "slide"
    }
   },
   "source": [
    "# What you can do?\n",
    "* Interactive development environment\n",
    "    * Fast code prototyping, test new ideas easily\n",
    "    * Most languages are supported through [Jupyter kernels](https://github.com/jupyter/jupyter/wiki/Jupyter-kernels)\n",
    "* Learn or teach with notebooks\n",
    "    * Prepare tutorials, run demos\n",
    "* Data analysis and visualization\n",
    "* Presentations with Reveal.js\n",
    "* Interactive work on HPC centers or cloud\n",
    "    * JupyterHub\n",
    "    * [Google Colab](https://colab.research.google.com)\n",
    "    * [Binder](https://mybinder.org/)\n"
   ]
  },
  {
   "cell_type": "markdown",
   "metadata": {
    "slideshow": {
     "slide_type": "slide"
    }
   },
   "source": [
    "# Basics (Shortcuts)\n",
    "\n",
    "* `Esc/Enter` get in command/edit mode\n",
    "\n",
    "| Command mode                   | Edit mode|\n",
    "| :-------------                 | :------------------------  |\n",
    "|  `h` show (edit) all shortcuts | `shift enter` Run cell, select below    |\n",
    "| `a/b` insert cell above/below  |`cmd/ctrl enter` Run cell|\n",
    "| `c/x` copy/cut selected cell   |`tab` completion or indent|\n",
    "| `V/v` paste cell above/below   |`shift tab` tooltip|\n",
    "| `d,d` delete cell              |`cmd/ctrl d` delete line|\n",
    "| `y/m/r` code/markdown/raw mode |`cmd/ctrl a` select all|\n",
    "| `f` search, replace            |`cmd/ctrl z` undo|\n",
    "| `p` open the command palette   | `cmd/ctrl /` comment|"
   ]
  },
  {
   "cell_type": "code",
   "execution_count": 6,
   "metadata": {
    "slideshow": {
     "slide_type": "fragment"
    }
   },
   "outputs": [],
   "source": [
    "import os\n",
    "os.getenv??\n",
    "#help('modules')\n",
    "#help('modules mpi4py')"
   ]
  },
  {
   "cell_type": "markdown",
   "metadata": {
    "slideshow": {
     "slide_type": "slide"
    }
   },
   "source": [
    "#  Markdown\n",
    "* bullet list \n",
    "    * subbullet\n",
    "* equation: $E=mc^2$\n",
    "* inline code `echo hello jupyter`\n",
    "```\n",
    "* A [link](https://alcf.anl.gov/events/towards-interactive-high-performance-computing-alcf-jupyterhub)\n",
    "* Table\n",
    "\n",
    "| Col 1 | Col 2| Col 3|\n",
    "| :-----| :---:|----: |\n",
    "| 1, 1  | 1,2  | 1,3  |\n",
    "| 2, 1  | 2,2  | 2,3  |\n",
    "| 3, 1  | 3,2  | 3,3  |\n",
    "\n",
    "* A kitten\n",
    "<img align=\"left\" src='images/kittencc.jpg' width=120>\n"
   ]
  },
  {
   "cell_type": "markdown",
   "metadata": {
    "slideshow": {
     "slide_type": "slide"
    }
   },
   "source": [
    "# IPython Magic\n",
    "* Magic functions are prefixed by `%` (line magic) or `%%` (cell magic)\n",
    "* Cell magic `%%` should be at the first line\n",
    "* Shell commands are prefixed by `!`\n",
    "* `%quickref`: Quick reference card for IPython\n",
    "* `%magic`: Info on IPython magic functions\n",
    "* `%debug`: Interactive debugger\n",
    "* `%timeit`: Report time execution\n",
    "* `%prun`: Profile (%lprun is better, `pip install lprun` and `%load_ext line_profiler`)"
   ]
  },
  {
   "cell_type": "code",
   "execution_count": 7,
   "metadata": {
    "slideshow": {
     "slide_type": "slide"
    }
   },
   "outputs": [],
   "source": [
    "%magic "
   ]
  },
  {
   "cell_type": "code",
   "execution_count": 60,
   "metadata": {
    "slideshow": {
     "slide_type": "fragment"
    }
   },
   "outputs": [
    {
     "name": "stdout",
     "output_type": "stream",
     "text": [
      "10000 loops, best of 5: 7.51 µs per loop\n",
      "The slowest run took 145.08 times longer than the fastest. This could mean that an intermediate result is being cached.\n",
      "10000 loops, best of 5: 106 µs per loop\n",
      "The slowest run took 5.23 times longer than the fastest. This could mean that an intermediate result is being cached.\n",
      "100000 loops, best of 5: 7.14 µs per loop\n"
     ]
    }
   ],
   "source": [
    "import numpy as np\n",
    "a = [1]*1000\n",
    "%timeit sum(a)\n",
    "b = np.array(a)\n",
    "%timeit np.sum(a)\n",
    "%timeit np.sum(b)"
   ]
  },
  {
   "cell_type": "markdown",
   "metadata": {
    "slideshow": {
     "slide_type": "slide"
    }
   },
   "source": [
    "# Jupyter Widgets (ipywidgets)\n",
    "* Widgets are basic GUI elements that can enhance interactivity on a Jupyter notebook\n",
    "* Enables using sliders, text boxes, buttons, and more that can link input and output."
   ]
  },
  {
   "cell_type": "code",
   "execution_count": 1,
   "metadata": {
    "slideshow": {
     "slide_type": "fragment"
    }
   },
   "outputs": [
    {
     "data": {
      "application/vnd.jupyter.widget-view+json": {
       "model_id": "8e92d48369144c7d9a3217caa0cdbfbf",
       "version_major": 2,
       "version_minor": 0
      },
      "text/plain": [
       "IntSlider(value=0)"
      ]
     },
     "metadata": {},
     "output_type": "display_data"
    }
   ],
   "source": [
    "import ipywidgets\n",
    "ipywidgets.IntSlider()"
   ]
  },
  {
   "cell_type": "code",
   "execution_count": 2,
   "metadata": {
    "slideshow": {
     "slide_type": "fragment"
    }
   },
   "outputs": [
    {
     "data": {
      "application/vnd.jupyter.widget-view+json": {
       "model_id": "dd6e397aab2e4a1d96897db781bb808b",
       "version_major": 2,
       "version_minor": 0
      },
      "text/plain": [
       "Text(value='Hello Jupyter!')"
      ]
     },
     "metadata": {},
     "output_type": "display_data"
    }
   ],
   "source": [
    "ipywidgets.Text(value='Hello Jupyter!', disabled=False)"
   ]
  },
  {
   "cell_type": "code",
   "execution_count": 3,
   "metadata": {
    "slideshow": {
     "slide_type": "fragment"
    }
   },
   "outputs": [
    {
     "data": {
      "application/vnd.jupyter.widget-view+json": {
       "model_id": "aa06d4347a7c4c19aea0d709bede7466",
       "version_major": 2,
       "version_minor": 0
      },
      "text/plain": [
       "ToggleButton(value=False, button_style='danger', description=\"Don't click\", tooltip='Description')"
      ]
     },
     "metadata": {},
     "output_type": "display_data"
    }
   ],
   "source": [
    "ipywidgets.ToggleButton(value=False, description=\"Don't click\", \n",
    "                     button_style='danger', tooltip='Description',)"
   ]
  },
  {
   "cell_type": "markdown",
   "metadata": {
    "slideshow": {
     "slide_type": "slide"
    }
   },
   "source": [
    "# ALCF JupyterHub\n",
    "* If you are an ALCF user, you can log in to Jupyter Hub at https://jupyter.alcf.anl.gov using your ALCF credentials.\n",
    "* If not, check https://alcf.anl.gov/support-center/get-started\n",
    "* Jupyter Hub instances runs on an external servers, but not on login, mom, or compute nodes.\n",
    "* Servers have 16 core Intel(R) Xeon(R) CPU E5-2683 and 512 GB memory and reserved for data analytics and visualization, not simulations. \n",
    "<center>\n",
    "<img align=\"center\" width=600 src='images/jupyterhub_login.png' >\n",
    "</center>\n"
   ]
  },
  {
   "cell_type": "markdown",
   "metadata": {
    "slideshow": {
     "slide_type": "slide"
    }
   },
   "source": [
    "# ALCF JupyterHub\n",
    "* JupyterHub for Cooley :\n",
    "    * runs on jupyter01.mcp.alcf.anl.gov\n",
    "    * has access to the user's home folder `/home/$USER`, the Mira projects folder `/projects`, and the Theta project folder `/lus/theta-fs0/projects`\n",
    "    * submitted jobs will run on Cooley\n",
    "* JupyterHub for Theta:\n",
    "    * runs on jupyter02.mcp.alcf.anl.gov\n",
    "    * has access to your home folder `/home/$USER` and projects folder `/lus/theta-fs0/projects`*\n",
    "    * does not have access to `/opt/cray`, `/opt/intel`, etc., that is, you cannot use any Theta modules or any Cray libraries.\n",
    "    * Submitted jobs will run on Theta"
   ]
  },
  {
   "cell_type": "markdown",
   "metadata": {
    "slideshow": {
     "slide_type": "slide"
    }
   },
   "source": [
    "# Notes\n",
    "\n",
    "* JupyterHub starts on your home folder, to access project folders, you can create a symbolic link `!ln -s /project/my_project my_project`\n",
    "* If you have a broken symlink on your home directory, JupyterHub gives a server error with `permission denied` message. You need to clean up / fix the broken symbolink links.\n",
    "* When you exceed your file quota, you may also experience problems. Check with `myquota`.\n",
    "* To run JupyterLab on JupyterHub, modify the link to `https://jupyter.alcf.anl.gov/cooley/user/$USER/lab`\n",
    "* Documentation is available at https://www.alcf.anl.gov/support-center/theta/jupyter-hub"
   ]
  },
  {
   "cell_type": "markdown",
   "metadata": {
    "slideshow": {
     "slide_type": "slide"
    }
   },
   "source": [
    "# How to install a new Conda environment & Jupyter kernel\n",
    "## Step 0\n",
    "* Check the names of the existing environments & kernels:\n",
    " ```bash\n",
    " !conda env list\n",
    " !jupyter kernelspec list\n",
    " ```\n",
    "\n",
    "* Select a name for the new environment & kernel.\n",
    "* Using a prefix such as `jhub_` is helpful to distinguish JupyterHub environments from others.\n",
    "\n",
    " ```bash\n",
    " ENVNAME=\"jhub_demo\"\n",
    " ```"
   ]
  },
  {
   "cell_type": "markdown",
   "metadata": {
    "slideshow": {
     "slide_type": "slide"
    }
   },
   "source": [
    "## Step 1\n",
    "\n",
    "* Create a new environment\n",
    "```bash\n",
    "!conda create -y --name $ENVNAME\n",
    "```\n",
    "\n",
    "* Or, create a new environment with a different python version\n",
    "```bash\n",
    "!conda create -y --name $ENVNAME python=3.8\n",
    "```\n",
    "\n",
    "* Or, create a new environment with a clone of the base environment (recommended)\n",
    "```bash\n",
    "!conda create -y --name $ENVNAME --clone base\n",
    "```"
   ]
  },
  {
   "cell_type": "markdown",
   "metadata": {
    "slideshow": {
     "slide_type": "slide"
    }
   },
   "source": [
    "## A step backward\n",
    "\n",
    "* If you want change the env name, you may need to remove the environment\n",
    "```bash\n",
    "!conda env remove -y --name $ENVNAME\n",
    "```"
   ]
  },
  {
   "cell_type": "markdown",
   "metadata": {
    "slideshow": {
     "slide_type": "slide"
    }
   },
   "source": [
    "## Step 2\n",
    "\n",
    "* Install new packages with `conda`, or `pip`\n",
    "```bash\n",
    "!source activate $ENVNAME; conda install -y -c conda-forge rise\n",
    "```\n",
    "```bash\n",
    "!source activate $ENVNAME; pip install balsam-flow\n",
    "```\n",
    "* Or, if you didn't clone from the base, you need to install the following packages additionally:\n",
    "```bash\n",
    "!source activate $ENVNAME; conda install -y jupyter nb_conda                  ipykernel\n",
    "```"
   ]
  },
  {
   "cell_type": "markdown",
   "metadata": {
    "slideshow": {
     "slide_type": "slide"
    }
   },
   "source": [
    "## Step 3\n",
    "\n",
    "* Install the kernel for Jupyter\n",
    "```bash\n",
    "!source activate $ENVNAME;python -m ipykernel install --user --name $ENVNAME\n",
    "```"
   ]
  },
  {
   "cell_type": "markdown",
   "metadata": {
    "slideshow": {
     "slide_type": "slide"
    }
   },
   "source": [
    "## Final steps\n",
    "* Refresh the browser or open a new notebook.\n",
    "* Select the new `Kernel` from the top dropdownlist\n",
    "* When you need to install another package, you only need to run the following steps\n",
    "\n",
    "```bash\n",
    "ENVNAME='jhub_demo'\n",
    "!source activate $ENVNAME; conda install -y <any_conda_package>\n",
    "!source activate $ENVNAME; pip install -c <any_pypi_package>\n",
    "```"
   ]
  },
  {
   "cell_type": "markdown",
   "metadata": {
    "slideshow": {
     "slide_type": "slide"
    }
   },
   "source": [
    "# Notes\n",
    "\n",
    "* Check the installation with\n",
    "\n",
    "```python\n",
    "!conda list\n",
    "import <any_package>\n",
    "print(<any_package>.__file__)\n",
    "print(<any_package>.__version__)\n",
    "```\n",
    "* Do not use environments installed on JupyterHub elsewhere."
   ]
  },
  {
   "cell_type": "markdown",
   "metadata": {
    "slideshow": {
     "slide_type": "slide"
    }
   },
   "source": [
    "# Clean up\n",
    "\n",
    "* You may run out of space quickly, check with `myquota`.\n",
    "* You can run `conda clean` to remove index cache, lock files, tarballs, unused cache packages, and source cache\n",
    "```bash\n",
    "!conda clean --all -y\n",
    "```\n",
    "* To remove an environment and the kernel you don't need:\n",
    "```bash\n",
    "!conda env remove -y -n $ENVNAME\n",
    "!jupyter kernelspec uninstall -y $ENVNAME\n",
    "```"
   ]
  },
  {
   "cell_type": "markdown",
   "metadata": {
    "slideshow": {
     "slide_type": "slide"
    }
   },
   "source": [
    "# Resources\n",
    "* [Fernando Perez’s Project Jupyter presentation](https://files.speakerdeck.com/presentations/5cd35ca0e91b01319d42227239d9f24b/jupyter-announce-scipy-2014.pdf)\n",
    "* jupyter.org\n",
    "    * Check out Voilà, Jupyter Lab, Jupyter Book\n",
    "* [Jupyter tutorial](https://coderefinery.github.io/jupyter/)\n",
    "* [Version control for Jupyter](https://nbdime.readthedocs.io/en/latest/)\n",
    "* [ALCF ML tutorials](https://github.com/argonne-lcf/ATPESC_MachineLearning)\n",
    "* [More ALCF notebooks](https://github.com/jupyter4hpc/ALCF_notebooks)"
   ]
  },
  {
   "cell_type": "markdown",
   "metadata": {
    "slideshow": {
     "slide_type": "slide"
    }
   },
   "source": [
    "<img align=\"left\" width=\"160\" src=\"images/title_logo.png\">\n",
    "<img align=\"right\" width=\"160\" src=\"images/anl.png\">\n",
    "\n",
    "# Acknowledgements\n",
    "\n",
    "* Thank you all for attending\n",
    "* Thanks to Misha, Alvaro, and Ray for their feedback and suggestions\n",
    "* Thanks to Tommie for running and maintaining JupyterHub servers\n",
    "* Thanks to Gurunath for working together during the summer\n",
    "* Thanks to Venkat, Tom, and Mike for motivation and support\n",
    "\n"
   ]
  },
  {
   "cell_type": "markdown",
   "metadata": {
    "slideshow": {
     "slide_type": "slide"
    }
   },
   "source": [
    "# Live Demo\n",
    "\n",
    "* All materials are at https://github.com/keceli/ezHPC\n",
    "```bash\n",
    "git clone https://github.com/keceli/ezHPC\n",
    "```\n",
    "<center>\n",
    "<img align=\"center\" width=\"200\" src=\"images/live_demo_meme1.jpg\">\n",
    "</center>\n"
   ]
  }
 ],
 "metadata": {
  "celltoolbar": "Slideshow",
  "kernelspec": {
   "display_name": "demo_kernel",
   "language": "python",
   "name": "demo_kernel"
  },
  "language_info": {
   "codemirror_mode": {
    "name": "ipython",
    "version": 3
   },
   "file_extension": ".py",
   "mimetype": "text/x-python",
   "name": "python",
   "nbconvert_exporter": "python",
   "pygments_lexer": "ipython3",
   "version": "3.7.8"
  }
 },
 "nbformat": 4,
 "nbformat_minor": 4
}
