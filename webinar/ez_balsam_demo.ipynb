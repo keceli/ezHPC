{
 "cells": [
  {
   "cell_type": "code",
   "execution_count": 1,
   "metadata": {
    "slideshow": {
     "slide_type": "slide"
    }
   },
   "outputs": [
    {
     "name": "stdout",
     "output_type": "stream",
     "text": [
      "Python version: 3.7.4 (default, Aug 13 2019, 20:35:49) \n",
      "Environment: /home/keceli/.conda/envs/jhub_demo3\n"
     ]
    }
   ],
   "source": [
    "# The magic commands below allow reflecting the changes in an imported module without restarting the kernel.\n",
    "%load_ext autoreload\n",
    "%autoreload 2\n",
    "import sys\n",
    "print(f'Python version: {sys.version.splitlines()[0]}')\n",
    "print(f'Environment: {sys.exec_prefix}')"
   ]
  },
  {
   "cell_type": "markdown",
   "metadata": {},
   "source": [
    "# Using Balsam on JupyterHub\n",
    "\n",
    "* Balsam automates scheduling and execution of HPC workflows\n",
    "* Submit unlimited application runs to a private task database\n",
    "* Service component automates queue submission\n",
    "* Launcher component pulls tasks for load-balanced execution\n",
    "* More info on Balsam is available at http://balsam.readthedocs.io/.\n",
    "* ez_balsam implements convenience functions and interactive widgets to simplify the usage of Balsam on JupyterHub.\n",
    "* One can use Python scripts directly on Jupyter without installing:\n",
    "    * You can change `PYTHONPATH` with `sys.path.insert(0,'/path/to/python/files/'),\n",
    "    * Or, load these scripts directly either by copying to the cell or using `%load` magic."
   ]
  },
  {
   "cell_type": "code",
   "execution_count": 2,
   "metadata": {},
   "outputs": [],
   "source": [
    "# %load https://raw.githubusercontent.com/keceli/ezHPC/main/ez_balsam.py"
   ]
  },
  {
   "cell_type": "code",
   "execution_count": 3,
   "metadata": {},
   "outputs": [],
   "source": [
    "#%%writefile ezHPC/ez_balsam2.py\n",
    "def add_pgsql_path(path='/soft/datascience/balsam/pgsql/bin/'):\n",
    "    \"\"\"\n",
    "    Add PostgreSQL directory to the path\n",
    "    \"\"\"\n",
    "    import os\n",
    "    if path not in os.environ['PATH']:\n",
    "        os.environ['PATH'] += os.pathsep + path\n",
    "    return\n",
    "\n",
    "def check_pgsql(pgsql_exe='pg_ctl'):\n",
    "    \"\"\"\n",
    "    Check PostgreSQL executable and version\n",
    "    Balsam requires PostgreSQL version 9.6.4 or newer to be installed.\n",
    "    TODO: Validate version\n",
    "    \"\"\"\n",
    "    import os\n",
    "    import shutil\n",
    "    mypg_ctl = shutil.which(pgsql_exe)\n",
    "    if mypg_ctl:\n",
    "        print('PostgreSQL found: ', mypg_ctl)\n",
    "        # pg_version = !$mypg_ctl --version\n",
    "        pg_version = os.popen(f'{mypg_ctl} --version')\n",
    "        print('PostgreSQL version: ', pg_version.read().split()[-1])\n",
    "        return True\n",
    "    else:\n",
    "        print('PostgreSQL not found. Add PostgreSQL directory to the PATH')\n",
    "        return False\n",
    "\n",
    "def load_balsam():\n",
    "    \"\"\"\n",
    "    Check Balsam module and print location and version\n",
    "    \"\"\"\n",
    "    try:\n",
    "        import balsam\n",
    "        import os\n",
    "        print('Balsam found: ', balsam.__file__)\n",
    "        print('Balsam version: ', balsam.__version__)\n",
    "        os.environ[\"DJANGO_ALLOW_ASYNC_UNSAFE\"] = \"true\"\n",
    "        add_pgsql_path()\n",
    "        check_pgsql()\n",
    "    except Exception as e:\n",
    "        print('🛑 Exception caught')\n",
    "        print(e, '\\n')\n",
    "        print('Make sure Balsam is installed and you are using the right kernel/environment')\n",
    "    return\n",
    "    \n",
    "def get_databases(verbose=True):\n",
    "    \"\"\"\n",
    "    Return balsam databases. If verbose, print.\n",
    "    \"\"\"\n",
    "    from balsam import django_config\n",
    "    from balsam.django_config.db_index import refresh_db_index\n",
    "    from ipywidgets import interact\n",
    "    import os\n",
    "    databasepaths = []\n",
    "    try:\n",
    "        databasepaths.extend(refresh_db_index())\n",
    "        if verbose:\n",
    "            print(f'There are {len(databasepaths)} Balsam databases available:')\n",
    "            for i,db in enumerate(databasepaths):\n",
    "                print(f'{i}: {db}')\n",
    "    except Excpetion as e:\n",
    "        print('🛑 Exception caught during balsam.django_config.db_index.refresh_db_index:')\n",
    "        print(e, '\\n')\n",
    "    return databasepaths \n",
    "    \n",
    "def select_database(db=''):\n",
    "    \"\"\"\n",
    "    Selects Balsam database by setting the BALSAM_DB_PATH environment variable.\n",
    "    \"\"\"\n",
    "    import os\n",
    "    os.environ[\"BALSAM_DB_PATH\"] = db\n",
    "    print(f'Selected database: {os.environ[\"BALSAM_DB_PATH\"]}')\n",
    "    return\n",
    "    \n",
    "def i_select_database():\n",
    "    \"\"\"\n",
    "    Selects Balsam database by setting the index of BALSAM_DB_PATH environment variable\n",
    "    from the dropdown list.\n",
    "    \"\"\"\n",
    "    from ipywidgets import interact\n",
    "    databasepaths = get_databases()\n",
    "    interact(activate_database,db=[(i,db) for i,db in enumerate(databasepaths)])\n",
    "    return\n",
    "\n",
    "def activate_database(db='', verbose=True):\n",
    "    \"\"\"\n",
    "    Activates Balsam database by setting the BALSAM_DB_PATH environment variable\n",
    "    and connecting to the Balsam server.\n",
    "    \"\"\"\n",
    "    import os\n",
    "    from balsam.scripts import postgres_control\n",
    "\n",
    "    os.environ[\"BALSAM_DB_PATH\"] = db\n",
    "    if verbose:\n",
    "        print(f'Selected database: {os.environ[\"BALSAM_DB_PATH\"]}')\n",
    "    try:\n",
    "        postgres_control.start_main(os.environ[\"BALSAM_DB_PATH\"])\n",
    "        if verbose:\n",
    "            serverinfo = os.environ[\"BALSAM_DB_PATH\"] + '/server-info'\n",
    "            with open(serverinfo) as f:\n",
    "                info = f.read()\n",
    "                print(f'Server information: {info}')\n",
    "    except Exception as e:\n",
    "        if 'could not connect to server' in str(e):\n",
    "            print('🛑 Server exception caught:')\n",
    "            print(e,'\\n')\n",
    "            print(f'Trying to restart the Balsam server {os.environ[\"BALSAM_DB_PATH\"]} ...')\n",
    "            try:\n",
    "                postgres_control.start_main(os.environ[\"BALSAM_DB_PATH\"])\n",
    "            except Exception as e:\n",
    "                print('Exception caught during restart:')\n",
    "                print(e,'\\n') \n",
    "        elif 'exit status 127' in str(e):\n",
    "            print('🛑 Exception 127 caught:')\n",
    "            print(e, '\\n')   \n",
    "            print('Checking postgresql')\n",
    "            if not check_pgsql():\n",
    "                print('Trying to add postgresql to the path')\n",
    "                add_pgsql_path()\n",
    "                if check_pgsql():\n",
    "                    print('postgresql added, try again')\n",
    "                else:\n",
    "                    print('Unsuccessful, you need to add postgresql to the path manually')\n",
    "        else:\n",
    "            print('🛑 Unknown exception caught:')\n",
    "            print('Could be postgres version mismatch.')\n",
    "            print('You may need to restart the Balsam server on terminal')\n",
    "            print(e,'\\n')\n",
    "    return\n",
    "\n",
    "def i_activate_database():\n",
    "    \"\"\"\n",
    "    Selects Balsam database by setting the index of BALSAM_DB_PATH environment variable\n",
    "    from the dropdown list.\n",
    "    \"\"\"\n",
    "    from ipywidgets import interact_manual, fixed\n",
    "    databasepaths = get_databases()\n",
    "    im = interact_manual(activate_database,db=[(i,db) for i,db in enumerate(databasepaths)],\n",
    "                        verbose=fixed(True))\n",
    "    mybutton = im.widget.children[1]\n",
    "    mybutton.description = 'activate database'   \n",
    "    return\n",
    "\n",
    "def get_apps(verbose=True):\n",
    "    \"\"\"\n",
    "    Return apps in the balsam database. If verbose, print.\n",
    "    \"\"\"\n",
    "    from balsam.core.models import ApplicationDefinition as App\n",
    "    from balsam.scripts import postgres_control\n",
    "    import os\n",
    "    try:\n",
    "        apps = App.objects.all()\n",
    "        if verbose:\n",
    "            print(f'Found {len(apps)} apps in {os.environ[\"BALSAM_DB_PATH\"]}:')\n",
    "            for i,app in enumerate(apps):\n",
    "                print(f'{i}: {app.name}')\n",
    "        return apps\n",
    "    except Exception as e:\n",
    "        activate_database(db=os.environ[\"BALSAM_DB_PATH\"])\n",
    "        return None\n",
    "    \n",
    "def i_list_apps():\n",
    "    \"\"\"\n",
    "    Show apps saved in the Balsam database\n",
    "    \"\"\"\n",
    "    import os\n",
    "    from ipywidgets import widgets, Layout\n",
    "    from IPython.display import display, clear_output\n",
    "    apps = get_apps()\n",
    "    children = [widgets.Textarea(value=str(app), layout=Layout(flex= '1 1 auto', width='400px',height='200px')) \n",
    "                        for app in apps]\n",
    "    tab = widgets.Accordion(children=children,layout=Layout(flex= '1 1 auto', width='500px',height='auto'))\n",
    "    for i,app in enumerate(apps):\n",
    "        tab.set_title(i, app.name)\n",
    "    print(f'Apps in the Balsam database {os.environ[\"BALSAM_DB_PATH\"]}:')\n",
    "    display(tab)\n",
    "    return\n",
    "    \n",
    "def save_app(name, executable, description='', envscript='', preprocess='', postprocess=''):\n",
    "    \"\"\"\n",
    "    Adds a new app with the given properties to the balsam database.\n",
    "    Parameters\n",
    "    ----------\n",
    "    name: str, name of the app\n",
    "    executable: str, path to the executable\n",
    "    description: str, info about the app\n",
    "    envscript:str, path to a bash script that can be `source`d\n",
    "    preprocess: str, path to the preprocessing script or command to be executed\n",
    "    postprocess: str, path to the postprocessing script\n",
    "    \"\"\"\n",
    "    from balsam.core.models import ApplicationDefinition as App\n",
    "    import shutil\n",
    "    import os\n",
    "    newapp = App()\n",
    "    if App.objects.filter(name=name).exists():\n",
    "        print(f\"An application named {name} already exists\")\n",
    "        return\n",
    "    else:\n",
    "        newapp.name        = name\n",
    "        newapp.executable  = executable\n",
    "        newapp.description = description\n",
    "        newapp.envscript   = envscript\n",
    "        newapp.preprocess  = preprocess\n",
    "        newapp.postprocess = postprocess\n",
    "        appexe = shutil.which(executable)\n",
    "        if appexe:        \n",
    "            print(f'{appexe} is found')\n",
    "            newapp.save()\n",
    "            print(f'{newapp.name} added to the balsam database {os.environ[\"BALSAM_DB_PATH\"]}.')\n",
    "        else:\n",
    "            print('{executable} is not found')\n",
    "    return\n",
    "\n",
    "def i_save_app():\n",
    "    \"\"\"\n",
    "    Adds a new app to the balsam database with the given properties to the balsam database.\n",
    "    TODO: Add a file selection widget for envscript. \n",
    "    See https://github.com/jupyter-widgets/ipywidgets/issues/2190\n",
    "    \"\"\"\n",
    "    from ipywidgets import interact_manual\n",
    "    import os\n",
    "    print(f'Balsam database: {os.environ[\"BALSAM_DB_PATH\"]}')\n",
    "    im = interact_manual(save_app, name='', executable='')\n",
    "    app_button = im.widget.children[6]\n",
    "    app_button.description = 'save app'\n",
    "    return\n",
    "\n",
    "def delete_app(name):\n",
    "    \"\"\"\n",
    "    Delete Balsam app with the given name\n",
    "    Note: All apps with the same name will be deleted\n",
    "    \"\"\"\n",
    "    from balsam.core.models import ApplicationDefinition as App\n",
    "    if App.objects.filter(name=name).exists():\n",
    "        app = App.objects.filter(name=name)\n",
    "        app.delete()\n",
    "        print(f'{name} app deleted.')\n",
    "    else:\n",
    "        print(f'{name} app not found.' )\n",
    "    return\n",
    "\n",
    "def i_delete_app():\n",
    "    \"\"\"\n",
    "    Delete selected Balsam app\n",
    "    \"\"\"    \n",
    "    from balsam.core.models import ApplicationDefinition as App\n",
    "    from ipywidgets import widgets, interact_manual\n",
    "    from IPython.display import display, clear_output\n",
    "    import os\n",
    "    print(f'Balsam database: {os.environ[\"BALSAM_DB_PATH\"]}')\n",
    "    allapps = [app.name for app in App.objects.all()]\n",
    "    idelete = widgets.Button(\n",
    "                    value=False,\n",
    "                    description='delete app',\n",
    "                    disabled=False,\n",
    "                    button_style='danger',\n",
    "                    tooltip='Delete app',\n",
    "                    icon='')\n",
    "    iapps = widgets.Dropdown(options=allapps, description='app')\n",
    "    output = widgets.Output()\n",
    "    display(iapps,idelete,output)\n",
    "    def delete_clicked(b):\n",
    "        with output:\n",
    "            clear_output()\n",
    "            delete_app(iapps.value)\n",
    "    idelete.on_click(delete_clicked)\n",
    "    return   \n",
    "\n",
    "def save_job(name, workflow, application, description='', \n",
    "            args='', num_nodes=1, ranks_per_node=1,\n",
    "            cpu_affinity='depth', data={}, environ_vars=''):\n",
    "    \"\"\"\n",
    "    Adds and returns a new job with the given properties\n",
    "    Parameters\n",
    "    ----------\n",
    "    args: str, appended to the command\n",
    "    data: Python dict or list, Needs to be JSON serializable\n",
    "    environ_vars: str, colon (':') seperated key=val pairs\n",
    "    \"\"\"\n",
    "    from balsam.launcher.dag import BalsamJob\n",
    "    from balsam.core.models import ApplicationDefinition as App\n",
    "    import os\n",
    "    job                = BalsamJob()\n",
    "    job.name           = name\n",
    "    job.workflow       = workflow\n",
    "    job.application    = application\n",
    "    job.description    = description\n",
    "    job.args           = args\n",
    "    job.num_nodes      = num_nodes\n",
    "    job.ranks_per_node = ranks_per_node\n",
    "    job.cpu_affinity   = cpu_affinity\n",
    "    job.environ_vars   = environ_vars\n",
    "    job.data           = {}\n",
    "    job.save()\n",
    "    print(f'{job.name} {job.job_id} added to the balsam database {os.environ[\"BALSAM_DB_PATH\"]}.')\n",
    "    return job\n",
    "\n",
    "def i_save_job():\n",
    "    \"\"\"\n",
    "    Adds and returns a new job with the given properties\n",
    "    \"\"\"\n",
    "    from ipywidgets import interact, interact_manual\n",
    "    from IPython.display import display, clear_output\n",
    "    from balsam.core.models import ApplicationDefinition as App\n",
    "    from ipywidgets import widgets\n",
    "    import os\n",
    "    print(f'Balsam database: {os.environ[\"BALSAM_DB_PATH\"]}')\n",
    "    apps = App.objects.all()\n",
    "    appnames = [app.name for app in apps]\n",
    "    isave = widgets.ToggleButton(\n",
    "                value=False,\n",
    "                description='save job',\n",
    "                disabled=False,\n",
    "                button_style='success', # 'success', 'info', 'warning', 'danger' or ''\n",
    "                tooltip='save job to the balsam database',\n",
    "                icon='') \n",
    "    im = interact_manual(save_job, name='', workflow='', application=appnames, description='', \n",
    "              args='', num_nodes=range(1,4394), ranks_per_node=range(1,256),\n",
    "              cpu_affinity=['depth','none'],data={},environ_vars='')\n",
    "    app_button = im.widget.children[10]\n",
    "    app_button.description = 'save job'\n",
    "    return\n",
    "\n",
    "def show_job_info(job_id='',show_output=False):\n",
    "    \"\"\"\n",
    "    Prints verbose job info for a given job id.\n",
    "    Parameters\n",
    "    ----------\n",
    "    job_id: str, Partial or full Balsam job id.\n",
    "    \"\"\"\n",
    "    from balsam.launcher.dag import BalsamJob as Job\n",
    "    import pathlib\n",
    "    jobs = Job.objects.all().filter(job_id__contains=job_id)\n",
    "    if len(jobs) == 1:\n",
    "        thejob = jobs[0]\n",
    "        print(jobs[0])\n",
    "        if show_output:\n",
    "            output = f'{thejob.working_directory}/{thejob.name}.out'\n",
    "            if pathlib.Path(output).is_file():\n",
    "                with open(output) as f:\n",
    "                    out = f.read()\n",
    "                print(f'Output file {output} content:')\n",
    "                print(out)\n",
    "            else:\n",
    "                print(f'{output} not found.')\n",
    "                print(f'Job state: {thejob.state}')\n",
    "                if thejob.state =='CREATED':\n",
    "                    print('The job has not run yet.')\n",
    "    elif len(jobs) == 0:\n",
    "        print('No matching jobs')\n",
    "    else:\n",
    "        print(f'{len(jobs)} jobs matched, enter full id.')\n",
    "        print('Matched jobs:')\n",
    "        for job in jobs:\n",
    "            print(f'{job.name}: {job.job_id} ')\n",
    "    return\n",
    "\n",
    "def i_show_job_info():\n",
    "    \"\"\"Show the job verbose information for a given job id\"\"\"\n",
    "    from ipywidgets import interact\n",
    "    from IPython.display import display, clear_output\n",
    "    interact(show_job_info)\n",
    "    return\n",
    "\n",
    "def list_jobs(state='ALL',workflow='ALL',app='ALL',name=''):\n",
    "    \"\"\"\n",
    "    List Balsam jobs with the given properties\n",
    "    \"\"\"\n",
    "    from balsam.launcher.dag import BalsamJob as Job\n",
    "    from balsam.core.models import ApplicationDefinition as App\n",
    "    jobs = Job.objects.all()\n",
    "    print(f'Total number of jobs: {len(jobs)}')\n",
    "    if state != 'ALL':\n",
    "        jobs = jobs.filter(state=state)\n",
    "    if workflow != 'ALL':\n",
    "        jobs = jobs.filter(workflow=workflow)\n",
    "    if app != 'ALL':\n",
    "        jobs = jobs.filter(application=app)\n",
    "    if name:\n",
    "        jobs = jobs.filter(name__icontains=name)\n",
    "    print(f'Selected number of jobs: {len(jobs)}')\n",
    "    if len(jobs) > 0: \n",
    "        t = '{:<20}'.format('Name')\n",
    "        t += ' {:>8}'.format('Nodes')\n",
    "        t += ' {:>12}'.format('Ranks')\n",
    "        t += ' {:^8}'.format('ID')\n",
    "        if state =='JOB_FINISHED':\n",
    "            t += '{:>12}'.format('Runtime')\n",
    "        elif state =='ALL':\n",
    "            t += '{:>15}'.format('State')\n",
    "        print(t)\n",
    "        for job in jobs:\n",
    "            s = '{:<20.15}'.format(job.name)\n",
    "            s += ' {:>8}'.format(job.num_nodes)\n",
    "            s += ' {:>12}'.format(job.num_ranks)\n",
    "            s += '  {:>8}'.format(str(job.job_id).split('-')[0])            \n",
    "\n",
    "            if state =='JOB_FINISHED':\n",
    "                s += '{:>12.3f}'.format(job.runtime_seconds)\n",
    "            elif state =='ALL':\n",
    "                s += '{:>15}'.format(job.state)\n",
    "            print(s)\n",
    "    return\n",
    "            \n",
    "def i_list_jobs():\n",
    "    \"\"\"\n",
    "    List Balsam jobs with the given properties\n",
    "    \"\"\"\n",
    "    from balsam.launcher.dag import BalsamJob as Job\n",
    "    from balsam.core.models import ApplicationDefinition as App\n",
    "    from ipywidgets import widgets, interact\n",
    "    from IPython.display import display, clear_output\n",
    "\n",
    "    allstates = ['ALL',\n",
    "                 'CREATED',\n",
    "                 'AWAITING_PARENTS',\n",
    "                 'READY',\n",
    "                 'STAGED_IN',\n",
    "                 'PREPROCESSED',\n",
    "                 'RUNNING',\n",
    "                 'RUN_DONE',\n",
    "                 'POSTPROCESSED',\n",
    "                 'JOB_FINISHED',\n",
    "                 'RUN_TIMEOUT',\n",
    "                 'RUN_ERROR',\n",
    "                 'RESTART_READY',\n",
    "                 'FAILED',\n",
    "                 'USER_KILLED']\n",
    "    allworkflows = [wf['workflow'] for wf in Job.objects.order_by().values('workflow').distinct()]\n",
    "    allworkflows.append('ALL')\n",
    "    allapps = [app.name for app in App.objects.all()]\n",
    "    allapps.append('ALL')\n",
    "    ilist = widgets.Button(\n",
    "                    value=False,\n",
    "                    description='list jobs',\n",
    "                    disabled=False,\n",
    "                    button_style='info', # 'success', 'info', 'warning', 'danger' or ''\n",
    "                    tooltip='List selected jobs',\n",
    "                    icon='') \n",
    "    im = interact(list_jobs, state=allstates, workflow=allworkflows, \n",
    "                 app=allapps, name='')\n",
    "    return\n",
    "\n",
    "def delete_jobs(state='ALL',workflow='ALL',app='ALL',name='', confirm=False):\n",
    "    \"\"\"\n",
    "    Delete Balsam jobs with the given properties\n",
    "    \"\"\"\n",
    "    jobs = Job.objects.all()\n",
    "    print(f'Total number of jobs: {len(jobs)}')\n",
    "    if state != 'ALL':\n",
    "        jobs = jobs.filter(state=state)\n",
    "    if workflow != 'ALL':\n",
    "        jobs = jobs.filter(workflow=workflow)\n",
    "    if app != 'ALL':\n",
    "        jobs = jobs.filter(application=app)\n",
    "    if name:\n",
    "        jobs = jobs.filter(name__icontains=name)\n",
    "    print(f'Selected number of jobs: {len(jobs)}')\n",
    "    if len(jobs) > 0: \n",
    "        t = '{:<20}'.format('Name')\n",
    "        t += ' {:>8}'.format('Nodes')\n",
    "        t += ' {:>12}'.format('Ranks')\n",
    "        t += ' {:^8}'.format('ID')\n",
    "        if state =='JOB_FINISHED':\n",
    "            t += '{:>12}'.format('Runtime')\n",
    "        elif state =='ALL':\n",
    "            t += '{:>15}'.format('State')\n",
    "        print(t)\n",
    "        for job in jobs:\n",
    "            s = '{:<20.15}'.format(job.name)\n",
    "            s += ' {:>8}'.format(job.num_nodes)\n",
    "            s += ' {:>12}'.format(job.num_ranks)\n",
    "            s += '  {:>8}'.format(str(job.job_id).split('-')[0])            \n",
    "\n",
    "            if state =='JOB_FINISHED':\n",
    "                s += '{:>12.3f}'.format(job.runtime_seconds)\n",
    "            elif state =='ALL':\n",
    "                s += '{:>15}'.format(job.state)\n",
    "            print(s)\n",
    "        if confirm:\n",
    "            try:\n",
    "                for job in jobs:\n",
    "                    print(f\"Deleting {job.name} {str(job.job_id).split('-')[0]}\")\n",
    "                    job.delete()\n",
    "                print(f'Deleted {len(jobs)} jobs')\n",
    "            except Exception as e:\n",
    "                print('Exception caught while deleting the selected jobs:')\n",
    "                print(e)\n",
    "    return\n",
    "    \n",
    "def i_delete_jobs():\n",
    "    \"\"\"\n",
    "    Delete Balsam jobs with the given properties\n",
    "    \"\"\"\n",
    "    from balsam.launcher.dag import BalsamJob as Job\n",
    "    from balsam.core.models import ApplicationDefinition as App\n",
    "    from ipywidgets import widgets, fixed\n",
    "    from IPython.display import display, clear_output\n",
    "\n",
    "    allstates = ['ALL',\n",
    "                 'CREATED',\n",
    "                 'AWAITING_PARENTS',\n",
    "                 'READY',\n",
    "                 'STAGED_IN',\n",
    "                 'PREPROCESSED',\n",
    "                 'RUNNING',\n",
    "                 'RUN_DONE',\n",
    "                 'POSTPROCESSED',\n",
    "                 'JOB_FINISHED',\n",
    "                 'RUN_TIMEOUT',\n",
    "                 'RUN_ERROR',\n",
    "                 'RESTART_READY',\n",
    "                 'FAILED',\n",
    "                 'USER_KILLED']\n",
    "    allworkflows = [wf['workflow'] for wf in Job.objects.order_by().values('workflow').distinct()]\n",
    "    allworkflows.append('ALL')\n",
    "    allapps = [app.name for app in App.objects.all()]\n",
    "    allapps.append('ALL')\n",
    "    iconfirm = widgets.Checkbox(value=False, description='confirm delete')\n",
    "    ilist = widgets.Button(\n",
    "                    value=False,\n",
    "                    description='list jobs',\n",
    "                    disabled=False,\n",
    "                    button_style='info', # 'success', 'info', 'warning', 'danger' or ''\n",
    "                    tooltip='List selected jobs',\n",
    "                    icon='') \n",
    "    idelete = widgets.Button(\n",
    "                    value=False,\n",
    "                    description='DELETE',\n",
    "                    disabled=False,\n",
    "                    button_style='danger', # 'success', 'info', 'warning', 'danger' or ''\n",
    "                    tooltip='Deletes selected jobs',\n",
    "                    icon='') # check\n",
    "    istate = widgets.Dropdown(options=allstates,value='ALL',description='state')\n",
    "    iworkflow = widgets.Dropdown(options=allworkflows,value='ALL',description='workflow')\n",
    "    iapp = widgets.Dropdown(options=allapps,value='ALL',description='app')\n",
    "    iname = widgets.Text(value='', description='name')\n",
    "    output = widgets.Output()\n",
    "    display(istate, iworkflow, iapp, iname, iconfirm, ilist, idelete, output)\n",
    "    def delete_clicked(b):\n",
    "        with output:\n",
    "            clear_output()\n",
    "            delete_jobs(state=istate.value,workflow=iworkflow.value,app=iapp.value,\n",
    "                     name=iname.value, confirm=iconfirm.value)\n",
    "    def list_clicked(b):\n",
    "        with output:\n",
    "            clear_output()\n",
    "            list_jobs(state=istate.value,workflow=iworkflow.value,app=iapp.value,\n",
    "                     name=iname.value)\n",
    "    idelete.on_click(delete_clicked)\n",
    "    ilist.on_click(list_clicked)\n",
    "    return\n",
    "\n",
    "def submit_jobs(project='', queue='debug-cache-quad', nodes=1, wall_minutes=30,\n",
    "                job_mode='mpi', wf_filter='', save=False, submit=False):\n",
    "    \"\"\"\n",
    "    Submits a job to the queue with the given parameters.\n",
    "    Parameters\n",
    "    ----------\n",
    "    project: str, name of the project to be charged\n",
    "    queue: str, queue name, can be: 'default', 'debug-cache-quad', 'debug-flat-quad', 'backfill'\n",
    "    nodes: int, Number of nodes, can be an integer from 1 to 4096 depending on the queue.\n",
    "    wall_minutes: int, max wall time in minutes, depends on the queue and the number of nodes, max 1440 minutes\n",
    "    job_mode: str, Balsam job mode, can be 'mpi', 'serial'\n",
    "    wf_filter: str, Selects Balsam jobs that matches the given workflow filter.\n",
    "    \"\"\"\n",
    "    from balsam import setup\n",
    "    setup()\n",
    "    from balsam.service import service\n",
    "    from balsam.core import models\n",
    "    validjob = True\n",
    "    QueuedLaunch = models.QueuedLaunch\n",
    "    mylaunch = QueuedLaunch()\n",
    "    mylaunch.project = project\n",
    "    mylaunch.queue = queue\n",
    "    mylaunch.nodes = nodes\n",
    "    mylaunch.wall_minutes = wall_minutes\n",
    "    mylaunch.job_mode = job_mode\n",
    "    mylaunch.wf_filter = wf_filter\n",
    "    mylaunch.prescheduled_only=False\n",
    "    if queue.startswith('debug'):\n",
    "        if wall_minutes > 60:\n",
    "            validjob = False\n",
    "            print(f'Max wall time for {queue} queue is 60 minutes')\n",
    "        if nodes > 8:\n",
    "            validjob = False\n",
    "            print(f'Max number of nodes for {queue} queue is 8')\n",
    "    else:\n",
    "        if nodes < 128:\n",
    "            validjob = False\n",
    "            print(f'Min number of nodes for {queue} queue is 128')\n",
    "    if save and validjob:\n",
    "        mylaunch.save()\n",
    "        print(f'Ready to submit')\n",
    "        if submit:\n",
    "            service.submit_qlaunch(mylaunch, verbose=True)\n",
    "    \n",
    "def i_submit_jobs():\n",
    "    from ipywidgets import interact, widgets\n",
    "    inodes = widgets.BoundedIntText(value=1, min=1, max=4394, step=1, description='nodes', disabled=False)\n",
    "    iwall_minutes = widgets.BoundedIntText(value=10, min=10, max=1440, step=30, description='wall minutes', disabled=False)\n",
    "    isave = widgets.Checkbox(value=False,description='save', indent=True)\n",
    "    isubmit = widgets.ToggleButton(\n",
    "                    value=False,\n",
    "                    description='submit',\n",
    "                    disabled=False,\n",
    "                    button_style='success', # 'success', 'info', 'warning', 'danger' or ''\n",
    "                    tooltip='submit job',\n",
    "                    icon='') # ('check')\n",
    "    im = interact(submit_jobs, project='',queue=['debug-flat-quad','debug-cache-quad','default', 'backfill'],\n",
    "                         nodes=inodes, wall_minutes=iwall_minutes, job_mode=['mpi','serial'],\n",
    "                         wf_filter='', save=isave, submit=isubmit)\n"
   ]
  },
  {
   "cell_type": "code",
   "execution_count": 4,
   "metadata": {},
   "outputs": [
    {
     "name": "stdout",
     "output_type": "stream",
     "text": [
      "Balsam found:  /home/keceli/.conda/envs/jhub_demo3/lib/python3.7/site-packages/balsam/__init__.py\n",
      "Balsam version:  0.3.8\n",
      "PostgreSQL found:  /soft/datascience/balsam/pgsql/bin/pg_ctl\n",
      "PostgreSQL version:  9.6.12\n"
     ]
    }
   ],
   "source": [
    "load_balsam()"
   ]
  },
  {
   "cell_type": "code",
   "execution_count": 7,
   "metadata": {},
   "outputs": [
    {
     "name": "stdout",
     "output_type": "stream",
     "text": [
      "There are 12 Balsam databases available:\n",
      "0: /lus/theta-fs0/projects/datascience/keceli/valence_balsam/balsamdb\n",
      "1: /lus/theta-fs0/projects/datascience/keceli/balsam/nwchem_demo/db\n",
      "2: /lus/theta-fs0/projects/datascience/keceli/balsam/simint/simint_db\n",
      "3: /lus/theta-fs0/projects/datascience/keceli/balsam/balsamdb_general\n",
      "4: /lus/theta-fs0/projects/datascience/keceli/balsam/jupyter_test\n",
      "5: /lus/theta-fs0/projects/connectomics_aesp/balsam_database\n",
      "6: /lus/theta-fs0/projects/datascience/keceli/container/scaling_test/connectomics\n",
      "7: /lus/theta-fs0/projects/datascience/keceli/nwx/nwx_db\n",
      "8: /home/keceli/test_balsam\n",
      "9: /gpfs/mira-home/keceli/test_balsam\n",
      "10: /home/keceli/test_balsam_theta\n",
      "11: /gpfs/mira-home/keceli/test_balsam_theta\n"
     ]
    },
    {
     "data": {
      "application/vnd.jupyter.widget-view+json": {
       "model_id": "a8297063f2a447c9ba004633fcc7e5eb",
       "version_major": 2,
       "version_minor": 0
      },
      "text/plain": [
       "interactive(children=(Dropdown(description='db', options=((0, '/lus/theta-fs0/projects/datascience/keceli/vale…"
      ]
     },
     "metadata": {},
     "output_type": "display_data"
    }
   ],
   "source": [
    "i_activate_database()"
   ]
  },
  {
   "cell_type": "code",
   "execution_count": 8,
   "metadata": {},
   "outputs": [
    {
     "name": "stdout",
     "output_type": "stream",
     "text": [
      "Found 5 apps in /gpfs/mira-home/keceli/test_balsam_theta:\n",
      "0: SayHello\n",
      "1: sleep\n",
      "2: host\n",
      "3: cat\n",
      "4: nwchem\n"
     ]
    }
   ],
   "source": [
    "apps = get_apps()"
   ]
  },
  {
   "cell_type": "code",
   "execution_count": 9,
   "metadata": {},
   "outputs": [
    {
     "name": "stdout",
     "output_type": "stream",
     "text": [
      "Found 5 apps in /gpfs/mira-home/keceli/test_balsam_theta:\n",
      "0: SayHello\n",
      "1: sleep\n",
      "2: host\n",
      "3: cat\n",
      "4: nwchem\n",
      "Apps in the Balsam database /gpfs/mira-home/keceli/test_balsam_theta:\n"
     ]
    },
    {
     "data": {
      "application/vnd.jupyter.widget-view+json": {
       "model_id": "50d1c504ead442cd97ae61aec71d038a",
       "version_major": 2,
       "version_minor": 0
      },
      "text/plain": [
       "Accordion(children=(Textarea(value='Application 1:\\n-----------------------\\nname:                           S…"
      ]
     },
     "metadata": {},
     "output_type": "display_data"
    }
   ],
   "source": [
    "i_list_apps()"
   ]
  },
  {
   "cell_type": "code",
   "execution_count": 10,
   "metadata": {},
   "outputs": [
    {
     "name": "stdout",
     "output_type": "stream",
     "text": [
      "Balsam database: /gpfs/mira-home/keceli/test_balsam_theta\n"
     ]
    },
    {
     "data": {
      "application/vnd.jupyter.widget-view+json": {
       "model_id": "4edc129ebb344ee59497bab0779e6d96",
       "version_major": 2,
       "version_minor": 0
      },
      "text/plain": [
       "interactive(children=(Text(value='', description='name'), Text(value='', description='executable'), Text(value…"
      ]
     },
     "metadata": {},
     "output_type": "display_data"
    }
   ],
   "source": [
    "i_save_app()"
   ]
  },
  {
   "cell_type": "code",
   "execution_count": 11,
   "metadata": {},
   "outputs": [
    {
     "name": "stdout",
     "output_type": "stream",
     "text": [
      "Balsam database: /gpfs/mira-home/keceli/test_balsam_theta\n"
     ]
    },
    {
     "data": {
      "application/vnd.jupyter.widget-view+json": {
       "model_id": "d859042807db4aff91743f8179df4ff9",
       "version_major": 2,
       "version_minor": 0
      },
      "text/plain": [
       "Dropdown(description='app', options=('SayHello', 'sleep', 'host', 'cat', 'nwchem'), value='SayHello')"
      ]
     },
     "metadata": {},
     "output_type": "display_data"
    },
    {
     "data": {
      "application/vnd.jupyter.widget-view+json": {
       "model_id": "a971da9939914aaea30d311465dfccb8",
       "version_major": 2,
       "version_minor": 0
      },
      "text/plain": [
       "Button(button_style='danger', description='delete app', style=ButtonStyle(), tooltip='Delete app')"
      ]
     },
     "metadata": {},
     "output_type": "display_data"
    },
    {
     "data": {
      "application/vnd.jupyter.widget-view+json": {
       "model_id": "65baaf34abe7450a98275f0501efaafc",
       "version_major": 2,
       "version_minor": 0
      },
      "text/plain": [
       "Output()"
      ]
     },
     "metadata": {},
     "output_type": "display_data"
    }
   ],
   "source": [
    "i_delete_app()"
   ]
  },
  {
   "cell_type": "code",
   "execution_count": 12,
   "metadata": {},
   "outputs": [
    {
     "data": {
      "application/vnd.jupyter.widget-view+json": {
       "model_id": "61d4afe639e74a3cbeed195c329ae2e8",
       "version_major": 2,
       "version_minor": 0
      },
      "text/plain": [
       "interactive(children=(Dropdown(description='state', options=('ALL', 'CREATED', 'AWAITING_PARENTS', 'READY', 'S…"
      ]
     },
     "metadata": {},
     "output_type": "display_data"
    }
   ],
   "source": [
    "i_list_jobs()"
   ]
  },
  {
   "cell_type": "code",
   "execution_count": 13,
   "metadata": {},
   "outputs": [
    {
     "name": "stdout",
     "output_type": "stream",
     "text": [
      "Balsam database: /gpfs/mira-home/keceli/test_balsam_theta\n"
     ]
    },
    {
     "data": {
      "application/vnd.jupyter.widget-view+json": {
       "model_id": "2c1784fcba284ace8a161841460cea8a",
       "version_major": 2,
       "version_minor": 0
      },
      "text/plain": [
       "interactive(children=(Text(value='', description='name'), Text(value='', description='workflow'), Dropdown(des…"
      ]
     },
     "metadata": {},
     "output_type": "display_data"
    }
   ],
   "source": [
    "i_save_job()"
   ]
  },
  {
   "cell_type": "code",
   "execution_count": 14,
   "metadata": {},
   "outputs": [
    {
     "data": {
      "application/vnd.jupyter.widget-view+json": {
       "model_id": "2d6bc39f830244c6baa1c9868cb29f05",
       "version_major": 2,
       "version_minor": 0
      },
      "text/plain": [
       "interactive(children=(Text(value='', description='job_id'), Checkbox(value=False, description='show_output'), …"
      ]
     },
     "metadata": {},
     "output_type": "display_data"
    }
   ],
   "source": [
    "i_show_job_info()"
   ]
  },
  {
   "cell_type": "code",
   "execution_count": 15,
   "metadata": {},
   "outputs": [
    {
     "data": {
      "application/vnd.jupyter.widget-view+json": {
       "model_id": "31a24f52d6ee4e49b1675d0f931e371a",
       "version_major": 2,
       "version_minor": 0
      },
      "text/plain": [
       "interactive(children=(Text(value='', description='project'), Dropdown(description='queue', index=1, options=('…"
      ]
     },
     "metadata": {},
     "output_type": "display_data"
    }
   ],
   "source": [
    "i_submit_jobs()"
   ]
  },
  {
   "cell_type": "code",
   "execution_count": null,
   "metadata": {},
   "outputs": [],
   "source": []
  }
 ],
 "metadata": {
  "kernelspec": {
   "display_name": "jhub_demo3",
   "language": "python",
   "name": "jhub_demo3"
  },
  "language_info": {
   "codemirror_mode": {
    "name": "ipython",
    "version": 3
   },
   "file_extension": ".py",
   "mimetype": "text/x-python",
   "name": "python",
   "nbconvert_exporter": "python",
   "pygments_lexer": "ipython3",
   "version": "3.7.4"
  }
 },
 "nbformat": 4,
 "nbformat_minor": 2
}
